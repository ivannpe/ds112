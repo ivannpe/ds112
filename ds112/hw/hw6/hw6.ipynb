{
 "cells": [
  {
   "cell_type": "markdown",
   "metadata": {
    "deletable": false,
    "editable": false,
    "nbgrader": {
     "cell_type": "markdown",
     "checksum": "3b069057c1509bfd47fe1beeae4f4290",
     "grade": false,
     "grade_id": "intro",
     "locked": true,
     "schema_version": 3,
     "solution": false
    }
   },
   "source": [
    "## Homework 6: Linear Regression, Features and Regularization \n",
    "### Due Date: Tuesday 12/10, 11:59 PM\n",
    "\n",
    "Following our exploration of housing prices in Boston, Massachusetts, we want to study housing prices in Ames, Iowa. We will use linear regression to predict sale prices from features such as size, number of bathrooms and neighborhood. While we want to add many features into the model, we need to avoid overfitting the training set. So along the way, we will get experience with regularization. We will use Ridge Regression to shrink the weights. Since we need an extra parameter to control the amount of shrinking, we will use validation to guess-and-check different values for the extra parameter. By completing Homework 6, you should get...\n",
    "\n",
    "- Practice reasoning about features for linear regression particularly polynomial features\n",
    "\n",
    "- Intuition about regularization particularly Ridge Regression  \n",
    "\n",
    "- Understanding of feature normalization to prevent against differ scales between features\n",
    "\n",
    "We will guide you through some exploratory data analysis, laying out an approach to selecting features for the model. After incorporating the features, we will fit a Ridge Regression model to predict housing prices. Finally we will analyze the error of the model. Along the way, we will try to pull together reusable code for each step. Using packages such as pandas and scikit-learn allows us to build a pipeline rather than rewrite different code for different approaches.\n",
    "\n",
    "\n",
    "We encourage you to think about ways to improve the model's performance with your classmates. If you are interested in try out your ideas, then you could take part in a related [modeling competition](https://www.kaggle.com/c/house-prices-advanced-regression-techniques)\n",
    "\n",
    "### Submission Instructions\n",
    "You are required to **submit a copy of the notebook to Gradescope**. Follow these steps\n",
    "\n",
    "1. Download as HTML (`File->Download As->HTML(.html)`). \n",
    "1. Open the HTML in the browser. Print to .pdf \n",
    "1. Upload to Gradescope. \n",
    "1. Map your answers to our questions. Otherwise you may lose points. Please see the rubric below.\n",
    "\n",
    "Consult the [instructional video](https://www.gradescope.com/get_started#student-submission) for more information. Note that \n",
    "- You should break long lines of code into multiple lines. Otherwise your code will extend out of view from the cell. Consider using `\\` followed by a new line. \n",
    "- For each textual response, please include relevant code that informed your response. For each plotting question, please include the code used to generate the plot. If your plot does not appear in the HTML / pdf output, then use `Image('name_of_file')` to embed it.\n",
    "- You should not display large output cells such as all rows of a table. Instead convert the input cell from Code to Markdown back to Code to remove the output cell.\n",
    "\n",
    "You are encouraged to **submit the notebook on Jupyter Hub**. Please navigate to the Assignments tab to submit fetch, modify and submit your notebook. Consult the [instructional video](https://nbgrader.readthedocs.io/en/stable/user_guide/highlights.html#student-assignment-list-extension-for-jupyter-notebooks) for more information.\n",
    "\n",
    "### Collaboration Policy\n",
    "\n",
    "Data science is a collaborative activity. While you may talk with others about\n",
    "the homework, we ask that you **write your solutions individually**. If you do\n",
    "discuss the assignments with others please **include their names** at the top\n",
    "of your solution.\n",
    "\n",
    "**Collaborators:** *list names here*\n",
    "\n",
    "### Rubric\n",
    "\n",
    "Question | Points\n",
    "--- | ---\n",
    "Gradescope | 2\n",
    "[Question 1](#q1) | 1\n",
    "[Question 2](#q2) | 3\n",
    "[Question 3](#q3) | 3\n",
    "[Question 4a](#q4) | 3\n",
    "[Question 4b](#q4) | 2\n",
    "[Question 5](#q5) | 1\n",
    "[Question 6](#q6) | 3\n",
    "[Question 7](#q7) | 2\n",
    "[Question 8a](#q8a) | 2\n",
    "[Question 8b](#q8b) | 1\n",
    "[Question 8c (optional)](#q8c) | 2\n",
    "Total | 23"
   ]
  },
  {
   "cell_type": "markdown",
   "metadata": {},
   "source": [
    "Worked with Pooja Patel"
   ]
  },
  {
   "cell_type": "markdown",
   "metadata": {
    "deletable": false,
    "editable": false,
    "nbgrader": {
     "cell_type": "markdown",
     "checksum": "6bcaf31a80d947652b0243a46dead484",
     "grade": false,
     "grade_id": "cell-e8cbb07a2cc27f7d",
     "locked": true,
     "schema_version": 3,
     "solution": false
    }
   },
   "source": [
    "### Getting Started"
   ]
  },
  {
   "cell_type": "code",
   "execution_count": null,
   "metadata": {
    "deletable": false,
    "editable": false,
    "nbgrader": {
     "cell_type": "code",
     "checksum": "35584a4fabe23a8c3166128d18e6e8dd",
     "grade": false,
     "grade_id": "imports",
     "locked": true,
     "schema_version": 3,
     "solution": false
    }
   },
   "outputs": [],
   "source": [
    "from IPython.display import Image, Markdown, display\n",
    "\n",
    "# Import standard packages\n",
    "import pandas as pd\n",
    "import numpy as np\n",
    "import csv\n",
    "import re\n",
    "\n",
    "# Set some parameters\n",
    "np.random.seed(47)\n",
    "np.set_printoptions(4)\n",
    "pd.options.display.max_rows = 20  \n",
    "pd.options.display.max_columns = 15\n",
    "pd.set_option('precision', 2)\n",
    "\n",
    "# Import standard plotting packages\n",
    "import matplotlib.pyplot as plt\n",
    "%matplotlib inline\n",
    "import seaborn as sns\n",
    "\n",
    "# Set some parameters\n",
    "plt.rcParams['figure.figsize'] = (12, 9)\n",
    "plt.rcParams['font.size'] = 12\n",
    "\n",
    "from sklearn.linear_model import Ridge"
   ]
  },
  {
   "cell_type": "markdown",
   "metadata": {
    "deletable": false,
    "editable": false,
    "nbgrader": {
     "cell_type": "markdown",
     "checksum": "7b27a0fbf6bca8a32d131aa6331c6f7a",
     "grade": false,
     "grade_id": "cell-f68729731e7fe39d",
     "locked": true,
     "schema_version": 3,
     "solution": false
    }
   },
   "source": [
    "### Fetching the Data\n",
    "\n",
    "The [Ames dataset](http://jse.amstat.org/v19n3/decock.pdf) consists of 2928 records taken from the Ames, Iowa, Assessor’s Office describing houses sold in Ames from 2006 to 2010.  The data set has 23 nominal, 23 ordinal, 14 discrete, and 20 continuous variables (and 2 additional observation identifiers) --- 82 features in total.  An explanation of each variable can be found in the included `codebook.txt` file.  The information was used in computing assessed values for individual residential properties sold in Ames, Iowa from 2006 to 2010. \n",
    "\n",
    "The data are split into training and test sets with 1998 and 930 observations, respectively."
   ]
  },
  {
   "cell_type": "code",
   "execution_count": 2,
   "metadata": {
    "deletable": false,
    "editable": false,
    "nbgrader": {
     "cell_type": "code",
     "checksum": "787858314d6b5a812985c53d1e544277",
     "grade": false,
     "grade_id": "cell-e8fea30adc9d489b",
     "locked": true,
     "schema_version": 3,
     "solution": false
    }
   },
   "outputs": [],
   "source": [
    "training_data = pd.read_csv(\"training.csv\")\n",
    "testing_data = pd.read_csv(\"testing.csv\")"
   ]
  },
  {
   "cell_type": "markdown",
   "metadata": {
    "deletable": false,
    "editable": false,
    "nbgrader": {
     "cell_type": "markdown",
     "checksum": "3a73de20762cbfa4accb6d3b4b7986de",
     "grade": false,
     "grade_id": "cell-9d6d509b6e854e10",
     "locked": true,
     "schema_version": 3,
     "solution": false
    }
   },
   "source": [
    "We shold verify that the data shape matches the description."
   ]
  },
  {
   "cell_type": "code",
   "execution_count": 3,
   "metadata": {
    "deletable": false,
    "editable": false,
    "nbgrader": {
     "cell_type": "code",
     "checksum": "1f0cde2783933d7ec13d34878431d80f",
     "grade": true,
     "grade_id": "cell-c841a2de55691502",
     "locked": true,
     "points": 0,
     "schema_version": 3,
     "solution": false,
     "task": false
    }
   },
   "outputs": [],
   "source": [
    "# TEST \n",
    "\n",
    "# 2000 observations and 82 features in training data\n",
    "assert training_data.shape == (1998, 82)\n",
    "\n",
    "# 930 observations and 81 features in test data\n",
    "assert testing_data.shape == (930, 82)\n",
    "\n",
    "# training and testing should have the same columns\n",
    "assert len(np.intersect1d(testing_data.columns.values, \n",
    "                          training_data.columns.values)) == 82"
   ]
  },
  {
   "cell_type": "markdown",
   "metadata": {
    "deletable": false,
    "editable": false,
    "nbgrader": {
     "cell_type": "markdown",
     "checksum": "6db8d73cb1d8ddd5337d8c9865d830e4",
     "grade": false,
     "grade_id": "cell-ce9acc2f62c96e59",
     "locked": true,
     "schema_version": 3,
     "solution": false
    }
   },
   "source": [
    " The Ames data set contains information that typical homebuyers would want to know.  A more detailed description of each variable is included in `codebook.txt`. You should take some time to familiarize yourself with the codebook before moving forward."
   ]
  },
  {
   "cell_type": "code",
   "execution_count": 4,
   "metadata": {
    "deletable": false,
    "editable": false,
    "nbgrader": {
     "cell_type": "code",
     "checksum": "65da016958f9bf673c98ddda2f88931d",
     "grade": false,
     "grade_id": "cell-4e60a7a0cda5eecf",
     "locked": true,
     "schema_version": 3,
     "solution": false
    }
   },
   "outputs": [
    {
     "data": {
      "text/plain": [
       "array(['Order', 'PID', 'MS_SubClass', 'MS_Zoning', 'Lot_Frontage',\n",
       "       'Lot_Area', 'Street', 'Alley', 'Lot_Shape', 'Land_Contour',\n",
       "       'Utilities', 'Lot_Config', 'Land_Slope', 'Neighborhood',\n",
       "       'Condition_1', 'Condition_2', 'Bldg_Type', 'House_Style',\n",
       "       'Overall_Qual', 'Overall_Cond', 'Year_Built', 'Year_Remod/Add',\n",
       "       'Roof_Style', 'Roof_Matl', 'Exterior_1st', 'Exterior_2nd',\n",
       "       'Mas_Vnr_Type', 'Mas_Vnr_Area', 'Exter_Qual', 'Exter_Cond',\n",
       "       'Foundation', 'Bsmt_Qual', 'Bsmt_Cond', 'Bsmt_Exposure',\n",
       "       'BsmtFin_Type_1', 'BsmtFin_SF_1', 'BsmtFin_Type_2', 'BsmtFin_SF_2',\n",
       "       'Bsmt_Unf_SF', 'Total_Bsmt_SF', 'Heating', 'Heating_QC',\n",
       "       'Central_Air', 'Electrical', '1st_Flr_SF', '2nd_Flr_SF',\n",
       "       'Low_Qual_Fin_SF', 'Gr_Liv_Area', 'Bsmt_Full_Bath',\n",
       "       'Bsmt_Half_Bath', 'Full_Bath', 'Half_Bath', 'Bedroom_AbvGr',\n",
       "       'Kitchen_AbvGr', 'Kitchen_Qual', 'TotRms_AbvGrd', 'Functional',\n",
       "       'Fireplaces', 'Fireplace_Qu', 'Garage_Type', 'Garage_Yr_Blt',\n",
       "       'Garage_Finish', 'Garage_Cars', 'Garage_Area', 'Garage_Qual',\n",
       "       'Garage_Cond', 'Paved_Drive', 'Wood_Deck_SF', 'Open_Porch_SF',\n",
       "       'Enclosed_Porch', '3Ssn_Porch', 'Screen_Porch', 'Pool_Area',\n",
       "       'Pool_QC', 'Fence', 'Misc_Feature', 'Misc_Val', 'Mo_Sold',\n",
       "       'Yr_Sold', 'Sale_Type', 'Sale_Condition', 'SalePrice'],\n",
       "      dtype=object)"
      ]
     },
     "execution_count": 4,
     "metadata": {},
     "output_type": "execute_result"
    }
   ],
   "source": [
    "# RUN\n",
    "\n",
    "training_data.columns.values"
   ]
  },
  {
   "cell_type": "markdown",
   "metadata": {
    "deletable": false,
    "editable": false,
    "nbgrader": {
     "cell_type": "markdown",
     "checksum": "b5a1e112e2b43e208d6167b0416922e4",
     "grade": false,
     "grade_id": "cell-ba0f6926b0dafefb",
     "locked": true,
     "schema_version": 3,
     "solution": false
    }
   },
   "source": [
    "### Exploratory Data Analysis\n",
    "\n",
    "We will generate a couple visualizations to understand the relationship between `SalePrice` and other features. Note that we will examine the training data so that information from the testing data does not influence our modeling decisions. Looking at the testing data introduces [bias](https://en.wikipedia.org/wiki/Data_dredging) into the model.\n",
    "\n",
    "#### Question 1  <a name=\"q1\"></a>\n",
    "We begin by examining a [raincloud plot](https://micahallen.org/2018/03/15/introducing-raincloud-plots/amp/?__twitter_impression=true) (a combination a histogram with density, a strip plot, and a box plot) of our target variable `SalePrice`.  At the same time, we also take a look at some descriptive statistics of this variable."
   ]
  },
  {
   "cell_type": "code",
   "execution_count": 5,
   "metadata": {
    "deletable": false,
    "editable": false,
    "nbgrader": {
     "cell_type": "code",
     "checksum": "4ae7a72607f894bd860ebf12dafd3b7f",
     "grade": false,
     "grade_id": "cell-15d483a695655cea",
     "locked": true,
     "schema_version": 3,
     "solution": false
    }
   },
   "outputs": [
    {
     "data": {
      "image/png": "[encoded data removed]",
      "text/plain": [
       "<Figure size 432x288 with 2 Axes>"
      ]
     },
     "metadata": {
      "needs_background": "light"
     },
     "output_type": "display_data"
    }
   ],
   "source": [
    "fig, axs = plt.subplots(nrows=2)\n",
    "\n",
    "sns.distplot(\n",
    "    training_data['SalePrice'], \n",
    "    ax=axs[0]\n",
    ")\n",
    "sns.stripplot(\n",
    "    training_data['SalePrice'], \n",
    "    jitter=0.4, \n",
    "    size=3,\n",
    "    ax=axs[1],\n",
    "    alpha=0.3\n",
    ")\n",
    "sns.boxplot(\n",
    "    training_data['SalePrice'],\n",
    "    width=0.3, \n",
    "    ax=axs[1],\n",
    "    showfliers=False,\n",
    ")\n",
    "\n",
    "# Align axes\n",
    "spacer = np.max(training_data['SalePrice']) * 0.05\n",
    "xmin = np.min(training_data['SalePrice']) - spacer\n",
    "xmax = np.max(training_data['SalePrice']) + spacer\n",
    "axs[0].set_xlim((xmin, xmax))\n",
    "axs[1].set_xlim((xmin, xmax))\n",
    "\n",
    "# Remove some axis text\n",
    "axs[0].xaxis.set_visible(False)\n",
    "axs[0].yaxis.set_visible(False)\n",
    "axs[1].yaxis.set_visible(False)\n",
    "\n",
    "# Put the two plots together\n",
    "plt.subplots_adjust(hspace=0)\n",
    "\n",
    "# Adjust boxplot fill to be white\n",
    "axs[1].artists[0].set_facecolor('white')"
   ]
  },
  {
   "cell_type": "code",
   "execution_count": 6,
   "metadata": {
    "deletable": false,
    "editable": false,
    "nbgrader": {
     "cell_type": "code",
     "checksum": "b4a085bd906dbca5edcdda315738e85f",
     "grade": false,
     "grade_id": "cell-45e5037c06db70f0",
     "locked": true,
     "schema_version": 3,
     "solution": false
    }
   },
   "outputs": [
    {
     "data": {
      "text/plain": [
       "count      1998.00\n",
       "mean     180785.11\n",
       "std       81619.69\n",
       "min        2489.00\n",
       "25%      128600.00\n",
       "50%      162000.00\n",
       "75%      213175.00\n",
       "max      747800.00\n",
       "Name: SalePrice, dtype: float64"
      ]
     },
     "execution_count": 6,
     "metadata": {},
     "output_type": "execute_result"
    }
   ],
   "source": [
    "training_data['SalePrice'].describe()"
   ]
  },
  {
   "cell_type": "markdown",
   "metadata": {
    "deletable": false,
    "editable": false,
    "nbgrader": {
     "cell_type": "markdown",
     "checksum": "8bfc873df19c0cbb5fc282d7c7d1c68e",
     "grade": false,
     "grade_id": "cell-592d5f41ebd67ee2",
     "locked": true,
     "schema_version": 3,
     "solution": false
    }
   },
   "source": [
    "To check your understanding of the graph and summary statistics above, answer the following `True` or `False` questions:\n",
    "\n",
    "1. The distribution of `SalePrice` in the training set is left-skew.\n",
    "1. The mean of `SalePrice` in the training set is greater than the median.\n",
    "1. At least 25% of the houses in the training set sold for more than \\$200,000.00."
   ]
  },
  {
   "cell_type": "code",
   "execution_count": 7,
   "metadata": {
    "deletable": false,
    "nbgrader": {
     "cell_type": "code",
     "checksum": "8f745924d7834e86ef38c33b1d944920",
     "grade": false,
     "grade_id": "q1-answer",
     "locked": false,
     "schema_version": 3,
     "solution": true
    }
   },
   "outputs": [],
   "source": [
    "# YOUR CODE HERE\n",
    "q1statement1 = False\n",
    "q1statement2 = True\n",
    "q1statement3 = True\n",
    "#raise NotImplementedError()"
   ]
  },
  {
   "cell_type": "code",
   "execution_count": 8,
   "metadata": {
    "deletable": false,
    "editable": false,
    "nbgrader": {
     "cell_type": "code",
     "checksum": "f59ca8c6b50ebcc42d59dd64cfe57b5e",
     "grade": true,
     "grade_id": "q1-tests",
     "locked": true,
     "points": 0,
     "schema_version": 3,
     "solution": false
    }
   },
   "outputs": [
    {
     "data": {
      "text/plain": [
       "True"
      ]
     },
     "execution_count": 8,
     "metadata": {},
     "output_type": "execute_result"
    }
   ],
   "source": [
    "# TEST\n",
    "set([q1statement1, q1statement2, q1statement3]).issubset({False, True})"
   ]
  },
  {
   "cell_type": "code",
   "execution_count": null,
   "metadata": {
    "deletable": false,
    "editable": false,
    "nbgrader": {
     "cell_type": "code",
     "checksum": "ecb1fc853108064aadff3f8de6529fae",
     "grade": true,
     "grade_id": "cell-843b895e8c775560",
     "locked": true,
     "points": 1,
     "schema_version": 3,
     "solution": false
    }
   },
   "outputs": [],
   "source": []
  },
  {
   "cell_type": "markdown",
   "metadata": {
    "deletable": false,
    "editable": false,
    "nbgrader": {
     "cell_type": "markdown",
     "checksum": "239b4ef254081561edd0263e399338f3",
     "grade": false,
     "grade_id": "cell-4ca2c345a05a92f6",
     "locked": true,
     "schema_version": 3,
     "solution": false,
     "task": false
    }
   },
   "source": [
    "#### Question 2 <a name=\"q2\"></a>\n",
    "\n",
    "We know that Total Bathrooms can be calculated as:\n",
    "\n",
    "$$ \\text{TotalBathrooms}=(\\text{BsmtFullBath} + \\text{FullBath}) + \\dfrac{1}{2}(\\text{BsmtHalfBath} + \\text{HalfBath})$$\n",
    "\n",
    "Write a function `add_total_bathrooms(data)` that returns a copy of `data` with an additional column called `TotalBathrooms` computed by the formula above.  Treat missing values as zeros.  Remember that you can make use of vectorized code here; you shouldn't need any `for` statements. "
   ]
  },
  {
   "cell_type": "code",
   "execution_count": 9,
   "metadata": {
    "deletable": false,
    "nbgrader": {
     "cell_type": "code",
     "checksum": "48e6955d3c1dcb5fcde673a5c4b92f5f",
     "grade": false,
     "grade_id": "cell-206ba1c8a3ae8250",
     "locked": false,
     "schema_version": 3,
     "solution": true,
     "task": false
    }
   },
   "outputs": [],
   "source": [
    "def add_total_bathrooms(data):\n",
    "    \"\"\"\n",
    "    Input:\n",
    "      data (data frame): a data frame containing at least 4 numeric columns \n",
    "            Bsmt_Full_Bath, Full_Bath, Bsmt_Half_Bath, and Half_Bath\n",
    "    \"\"\"\n",
    "    with_bathrooms = data.copy()\n",
    "    bath_vars = ['Bsmt_Full_Bath', 'Full_Bath', 'Bsmt_Half_Bath', 'Half_Bath']\n",
    "    weights = pd.Series([1, 1, 0.5, 0.5], index=bath_vars)\n",
    "    # YOUR CODE HERE\n",
    "    with_bathrooms['TotalBathrooms'] = with_bathrooms[bath_vars].dot(weights)\n",
    "    #raise NotImplementedError()\n",
    "    return with_bathrooms\n",
    "\n",
    "training_data = add_total_bathrooms(training_data)"
   ]
  },
  {
   "cell_type": "code",
   "execution_count": 10,
   "metadata": {
    "deletable": false,
    "editable": false,
    "nbgrader": {
     "cell_type": "code",
     "checksum": "6b527eb04edad87323e291fc85188a4e",
     "grade": true,
     "grade_id": "cell-29d0d90b79c6adbe",
     "locked": true,
     "points": 1,
     "schema_version": 3,
     "solution": false,
     "task": false
    }
   },
   "outputs": [],
   "source": [
    "# TEST\n",
    "assert not training_data['TotalBathrooms'].isnull().any() # Check that missing values are dealt with\n",
    "assert training_data['TotalBathrooms'].sum() == 4421.5 # Check that the values are as expected"
   ]
  },
  {
   "cell_type": "markdown",
   "metadata": {
    "deletable": false,
    "editable": false,
    "nbgrader": {
     "cell_type": "markdown",
     "checksum": "ade1ec32eaa00fd4e2548f9fbd880d3b",
     "grade": false,
     "grade_id": "cell-a6ebb39c45e2153c",
     "locked": true,
     "points": 1,
     "schema_version": 3,
     "solution": false,
     "task": true
    }
   },
   "source": [
    "Using a boxplot, shows that `TotalBathrooms` is associated with `SalePrice`. Save your vizualization as `boxplot.png`"
   ]
  },
  {
   "cell_type": "code",
   "execution_count": 11,
   "metadata": {
    "deletable": false,
    "nbgrader": {
     "cell_type": "code",
     "checksum": "342a633d3c4600eb0cdeb47548dc2e62",
     "grade": false,
     "grade_id": "cell-2ce639e46ab35892",
     "locked": false,
     "schema_version": 3,
     "solution": true,
     "task": false
    }
   },
   "outputs": [
    {
     "data": {
      "image/png": "[encoded data removed]",
      "text/plain": [
       "<Figure size 432x288 with 1 Axes>"
      ]
     },
     "metadata": {
      "needs_background": "light"
     },
     "output_type": "display_data"
    }
   ],
   "source": [
    "# YOUR CODE HERE\n",
    "sns.boxplot(x='TotalBathrooms', y='SalePrice', data=training_data)\n",
    "#raise NotImplementedError()\n",
    "plt.savefig('boxplot.png')"
   ]
  },
  {
   "cell_type": "code",
   "execution_count": 12,
   "metadata": {
    "deletable": false,
    "editable": false,
    "nbgrader": {
     "cell_type": "code",
     "checksum": "d0b0a2f13995e94f5373b78f0d9659bf",
     "grade": false,
     "grade_id": "cell-0d35428251340494",
     "locked": true,
     "schema_version": 3,
     "solution": false,
     "task": false
    }
   },
   "outputs": [
    {
     "data": {
      "image/png": "[encoded data removed]",
      "text/plain": [
       "<IPython.core.display.Image object>"
      ]
     },
     "execution_count": 12,
     "metadata": {},
     "output_type": "execute_result"
    }
   ],
   "source": [
    "# RUN\n",
    "\n",
    "Image('boxplot.png')"
   ]
  },
  {
   "cell_type": "markdown",
   "metadata": {
    "deletable": false,
    "editable": false,
    "nbgrader": {
     "cell_type": "markdown",
     "checksum": "bd0b3221ddae5bc4f016805eaec57cc7",
     "grade": false,
     "grade_id": "cell-fe7ea6d40c765465",
     "locked": true,
     "schema_version": 3,
     "solution": false,
     "task": false
    }
   },
   "source": [
    "### Encoding Features\n",
    "\n",
    "We will create new features out of old features through some data transformations.\n"
   ]
  },
  {
   "cell_type": "markdown",
   "metadata": {
    "deletable": false,
    "editable": false,
    "nbgrader": {
     "cell_type": "markdown",
     "checksum": "8e8d30e2ab4bbef24428f841e3be9e69",
     "grade": false,
     "grade_id": "cell-9e22aac9b45f88e3",
     "locked": true,
     "schema_version": 3,
     "solution": false
    }
   },
   "source": [
    "#### Question 3 <a name=\"q3\"></a>\n",
    "\n",
    "We can visualize the association between `SalePrice` and `Gr_Liv_Area`.  The `codebook.txt` file tells us that `Gr_Liv_Area` measures \"above grade (ground) living area square feet.\" This variable represents the square footage of the house excluding anything underground.  "
   ]
  },
  {
   "cell_type": "code",
   "execution_count": 13,
   "metadata": {
    "deletable": false,
    "editable": false,
    "nbgrader": {
     "cell_type": "code",
     "checksum": "142f2f5822d84fee5943a6daa0147cff",
     "grade": false,
     "grade_id": "cell-02a467f8950ee680",
     "locked": true,
     "schema_version": 3,
     "solution": false
    }
   },
   "outputs": [
    {
     "data": {
      "image/png": "[encoded data removed]",
      "text/plain": [
       "<Figure size 432x432 with 3 Axes>"
      ]
     },
     "metadata": {
      "needs_background": "light"
     },
     "output_type": "display_data"
    }
   ],
   "source": [
    "sns.jointplot(\n",
    "    x='Gr_Liv_Area', \n",
    "    y='SalePrice', \n",
    "    data=training_data,\n",
    "    stat_func=None,\n",
    "    kind=\"reg\",\n",
    "    ratio=4,\n",
    "    space=0,\n",
    "    scatter_kws={\n",
    "        's': 3,\n",
    "        'alpha': 0.25\n",
    "    },\n",
    "    line_kws={\n",
    "        'color': 'black'\n",
    "    }\n",
    ");"
   ]
  },
  {
   "cell_type": "markdown",
   "metadata": {},
   "source": [
    "Since `Gr_Liv_Area` excludes the garage space, we visualize the association between `SalePrice` and `Garage_Area`.  The `codebook.txt` file tells us that `Gr_Liv_Area` measures \"Size of garage in square feet.\" "
   ]
  },
  {
   "cell_type": "code",
   "execution_count": 14,
   "metadata": {
    "deletable": false,
    "editable": false,
    "nbgrader": {
     "cell_type": "code",
     "checksum": "5b9258aa36928ac61afea198f0ef0ac9",
     "grade": false,
     "grade_id": "cell-02a467f8950ee6801",
     "locked": true,
     "schema_version": 3,
     "solution": false
    }
   },
   "outputs": [
    {
     "data": {
      "image/png": "[encoded data removed]",
      "text/plain": [
       "<Figure size 432x432 with 3 Axes>"
      ]
     },
     "metadata": {
      "needs_background": "light"
     },
     "output_type": "display_data"
    }
   ],
   "source": [
    "sns.jointplot(\n",
    "    x='Garage_Area', \n",
    "    y='SalePrice', \n",
    "    data=training_data,\n",
    "    stat_func=None,\n",
    "    kind=\"reg\",\n",
    "    ratio=4,\n",
    "    space=0,\n",
    "    scatter_kws={\n",
    "        's': 3,\n",
    "        'alpha': 0.25\n",
    "    },\n",
    "    line_kws={\n",
    "        'color': 'black'\n",
    "    }\n",
    ");"
   ]
  },
  {
   "cell_type": "markdown",
   "metadata": {},
   "source": [
    "Write a function called `add_power` that inputs\n",
    " - a table `data`\n",
    " - a column name `column_name` of the table \n",
    " - positive integer `degree`\n",
    "\n",
    "and outputs \n",
    "\n",
    " - a copy of `data` with an additional column called `column_name2` containing all entries of `column_name` raised to power `degree`.  "
   ]
  },
  {
   "cell_type": "code",
   "execution_count": 15,
   "metadata": {
    "deletable": false,
    "nbgrader": {
     "cell_type": "code",
     "checksum": "6a36566f45cf7588c822302b775a0b05",
     "grade": false,
     "grade_id": "cell-64f7d4f794e1e1dd",
     "locked": false,
     "schema_version": 3,
     "solution": true,
     "task": false
    }
   },
   "outputs": [],
   "source": [
    "def add_power(data, column_name, degree):\n",
    "    \"\"\"\n",
    "    Input:\n",
    "      data (data frame): a data frame containing column called column_name\n",
    "      column_name (string): a column in data\n",
    "      degree: positive integer \n",
    "\n",
    "    Output: \n",
    "      copy of data containing a column called column_name2 with entries of column_name to power degree\n",
    "    \"\"\"\n",
    "    with_power = data.copy()\n",
    "    # YOUR CODE HERE\n",
    "    with_power[\"%s2\" % column_name] = with_power[column_name]**degree\n",
    "    #raise NotImplementedError()\n",
    "    return with_power\n",
    "\n",
    "training_data = add_power(training_data, \"Garage_Area\", 2)\n",
    "training_data = add_power(training_data, \"Gr_Liv_Area\", 2)"
   ]
  },
  {
   "cell_type": "markdown",
   "metadata": {
    "deletable": false,
    "editable": false,
    "nbgrader": {
     "cell_type": "markdown",
     "checksum": "ba0904acd629c1a6b2930c67c7bca1d2",
     "grade": false,
     "grade_id": "cell-bf39172ab8ce0a16",
     "locked": true,
     "schema_version": 3,
     "solution": false,
     "task": false
    }
   },
   "source": [
    "Among `Gr_Liv_Area`, `Gr_Liv_Area2`, `Garage_Area`, `Garage_Area2` which has the largest correlation with `SalePrice`? Note that pd.DataFrame.corr would be helpful."
   ]
  },
  {
   "cell_type": "code",
   "execution_count": 16,
   "metadata": {
    "deletable": false,
    "nbgrader": {
     "cell_type": "code",
     "checksum": "a8a45081f7d764fd1e7f9f8253d45f9e",
     "grade": false,
     "grade_id": "cell-7c3c8062bfd7b4f0",
     "locked": false,
     "schema_version": 3,
     "solution": true,
     "task": false
    }
   },
   "outputs": [
    {
     "name": "stdout",
     "output_type": "stream",
     "text": [
      "Order          Yr_Sold          -0.98\n",
      "Bsmt_Unf_SF    BsmtFin_SF_1     -0.49\n",
      "Lot_Frontage   MS_SubClass      -0.44\n",
      "Bsmt_Unf_SF    Bsmt_Full_Bath   -0.38\n",
      "Year_Built     Enclosed_Porch   -0.37\n",
      "PID            Year_Built       -0.35\n",
      "Overall_Cond   Year_Built       -0.35\n",
      "               Garage_Yr_Blt    -0.31\n",
      "Garage_Yr_Blt  Enclosed_Porch   -0.29\n",
      "PID            Garage_Yr_Blt    -0.27\n",
      "                                 ... \n",
      "Gr_Liv_Area2   TotRms_AbvGrd     0.78\n",
      "Garage_Cars    Garage_Area2      0.78\n",
      "1st_Flr_SF     Total_Bsmt_SF     0.78\n",
      "Overall_Qual   SalePrice         0.79\n",
      "Gr_Liv_Area    TotRms_AbvGrd     0.81\n",
      "Garage_Yr_Blt  Year_Built        0.84\n",
      "Garage_Cars    Garage_Area       0.89\n",
      "Garage_Area2   Garage_Area       0.94\n",
      "Gr_Liv_Area2   Gr_Liv_Area       0.97\n",
      "Order          Order             1.00\n",
      "Length: 862, dtype: float64\n"
     ]
    }
   ],
   "source": [
    "print(training_data.corr().unstack().sort_values().drop_duplicates())\n",
    "highest_variable = 'Gr_Liv_Area'\n",
    "\n",
    "# YOUR CODE HERE\n",
    "#raise NotImplementedError()"
   ]
  },
  {
   "cell_type": "code",
   "execution_count": 17,
   "metadata": {
    "deletable": false,
    "editable": false,
    "nbgrader": {
     "cell_type": "code",
     "checksum": "999f932696c1458c2f772809a8bb2ccd",
     "grade": true,
     "grade_id": "cell-7aa98e710670fa92",
     "locked": true,
     "points": 1,
     "schema_version": 3,
     "solution": false,
     "task": false
    }
   },
   "outputs": [],
   "source": [
    "# TEST\n",
    "assert highest_variable in ['Gr_Liv_Area', 'Gr_Liv_Area2', 'Garage_Area', 'Garage_Area2']"
   ]
  },
  {
   "cell_type": "code",
   "execution_count": null,
   "metadata": {
    "deletable": false,
    "editable": false,
    "nbgrader": {
     "cell_type": "code",
     "checksum": "95edbba790fa4617e60b904e4a093055",
     "grade": true,
     "grade_id": "cell-9f533f26638edb15",
     "locked": true,
     "points": 2,
     "schema_version": 3,
     "solution": false,
     "task": false
    }
   },
   "outputs": [],
   "source": []
  },
  {
   "cell_type": "markdown",
   "metadata": {
    "deletable": false,
    "editable": false,
    "nbgrader": {
     "cell_type": "markdown",
     "checksum": "d034894217ab9bc311d12e4d51a11952",
     "grade": false,
     "grade_id": "cell-9dd8e55922da8f4f",
     "locked": true,
     "schema_version": 3,
     "solution": false,
     "task": false
    }
   },
   "source": [
    "#### Question 4 <a name=\"q4\"></a>\n",
    "\n",
    "\n"
   ]
  },
  {
   "cell_type": "markdown",
   "metadata": {
    "deletable": false,
    "editable": false,
    "nbgrader": {
     "cell_type": "markdown",
     "checksum": "62d872dc53e1d4121290d6bc0ee40ead",
     "grade": false,
     "grade_id": "cell-6cb057d21eae1c63",
     "locked": true,
     "schema_version": 3,
     "solution": false,
     "task": false
    }
   },
   "source": [
    "Let's take a look at the relationship between neighborhood and sale prices of the houses in our data set."
   ]
  },
  {
   "cell_type": "code",
   "execution_count": 18,
   "metadata": {
    "deletable": false,
    "editable": false,
    "nbgrader": {
     "cell_type": "code",
     "checksum": "af0a38b0c7640ba826f375c6e7d6fa3d",
     "grade": false,
     "grade_id": "cell-c5b7b8a1a83ba471",
     "locked": true,
     "schema_version": 3,
     "solution": false,
     "task": false
    }
   },
   "outputs": [
    {
     "data": {
      "image/png": "[encoded data removed]",
      "text/plain": [
       "<Figure size 432x288 with 2 Axes>"
      ]
     },
     "metadata": {
      "needs_background": "light"
     },
     "output_type": "display_data"
    }
   ],
   "source": [
    "fig, axs = plt.subplots(nrows=2)\n",
    "\n",
    "sns.boxplot(\n",
    "    x='Neighborhood',\n",
    "    y='SalePrice',\n",
    "    data=training_data.sort_values('Neighborhood'),\n",
    "    ax=axs[0]\n",
    ")\n",
    "\n",
    "sns.countplot(\n",
    "    x='Neighborhood',\n",
    "    data=training_data.sort_values('Neighborhood'),\n",
    "    ax=axs[1]\n",
    ")\n",
    "\n",
    "# Draw median price\n",
    "axs[0].axhline(\n",
    "    y=training_data['SalePrice'].median(), \n",
    "    color='red',\n",
    "    linestyle='dotted'\n",
    ")\n",
    "\n",
    "# Label the bars with counts\n",
    "for patch in axs[1].patches:\n",
    "    x = patch.get_bbox().get_points()[:, 0]\n",
    "    y = patch.get_bbox().get_points()[1, 1]\n",
    "    axs[1].annotate(f'{int(y)}', (x.mean(), y), ha='center', va='bottom')\n",
    "    \n",
    "# Format x-axes\n",
    "axs[1].set_xticklabels(axs[1].xaxis.get_majorticklabels(), rotation=90)\n",
    "axs[0].xaxis.set_visible(False)\n",
    "\n",
    "# Narrow the gap between the plots\n",
    "plt.subplots_adjust(hspace=0.01)"
   ]
  },
  {
   "cell_type": "markdown",
   "metadata": {
    "deletable": false,
    "editable": false,
    "nbgrader": {
     "cell_type": "markdown",
     "checksum": "2b26b20e0da2217945e9fb4f651a32a8",
     "grade": false,
     "grade_id": "cell-d0c246861c50c04d",
     "locked": true,
     "schema_version": 3,
     "solution": false,
     "task": false
    }
   },
   "source": [
    "We find a lot of variation in prices across neighborhoods. Moreover, the amount of data available is not uniformly distributed among neighborhoods.  North Ames, for example, comprises almost 15% of the training data while Green Hill has only 2 observations in this data set.\n",
    "\n",
    "One way we can deal with the lack of data from some neighborhoods is to create a new feature that bins neighborhoods together.  Let's categorize our neighborhoods in a crude way: we'll take the top 3 neighborhoods measured by median `SalePrice` and identify them as \"rich neighborhoods\"; the other neighborhoods are not marked."
   ]
  },
  {
   "cell_type": "markdown",
   "metadata": {
    "deletable": false,
    "editable": false,
    "nbgrader": {
     "cell_type": "markdown",
     "checksum": "ebc700ebe60d63f443361b1c9959100c",
     "grade": false,
     "grade_id": "cell-aad1961b724d9375",
     "locked": true,
     "schema_version": 3,
     "solution": false,
     "task": false
    }
   },
   "source": [
    "#### Question 4a <a name=\"q4b\"></a> \n",
    "Write a function that returns a list of the top `n` neighborhoods as measured by our choice of aggregating function.  For example, in the setup above, we would want to call `find_rich_neighborhoods(training_data, 3, np.median)` to find the top 3 neighborhoods measured by median `SalePrice`.\n",
    "\n",
    "**Hint** Try using the operations `groupby`, `apply` and `sort_values`."
   ]
  },
  {
   "cell_type": "code",
   "execution_count": 19,
   "metadata": {
    "deletable": false,
    "nbgrader": {
     "cell_type": "code",
     "checksum": "1313c9632efee59a78ebecaa25a74fcb",
     "grade": false,
     "grade_id": "cell-d135cc4f3307b1f4",
     "locked": false,
     "schema_version": 3,
     "solution": true,
     "task": false
    }
   },
   "outputs": [
    {
     "data": {
      "text/plain": [
       "['StoneBr', 'NridgHt', 'NoRidge']"
      ]
     },
     "execution_count": 19,
     "metadata": {},
     "output_type": "execute_result"
    }
   ],
   "source": [
    "def find_rich_neighborhoods(data, n=3, metric=np.median):\n",
    "    \"\"\"\n",
    "    Input:\n",
    "      data (data frame): should contain at least a string-valued Neighborhood\n",
    "        and a numeric SalePrice column\n",
    "      n (int): the number of top values desired\n",
    "      metric (function): function used for aggregating the data in each neighborhood.\n",
    "        for example, np.median for median prices\n",
    "    \n",
    "    Output:\n",
    "      a list of the top n richest neighborhoods as measured by the metric function\n",
    "    \"\"\"\n",
    "    neighborhoods = ...\n",
    "    # YOUR CODE HERE\n",
    "    neighborhoods = list(data.groupby('Neighborhood')['SalePrice']\n",
    "                    .aggregate(metric)\n",
    "                    .sort_values(ascending=False)\n",
    "                    .head(n)\n",
    "                    .index.values )\n",
    "    #raise NotImplementedError()\n",
    "    return neighborhoods\n",
    "\n",
    "rich_neighborhoods = find_rich_neighborhoods(training_data, 3, np.median)\n",
    "rich_neighborhoods"
   ]
  },
  {
   "cell_type": "code",
   "execution_count": 20,
   "metadata": {
    "deletable": false,
    "editable": false,
    "nbgrader": {
     "cell_type": "code",
     "checksum": "f2a85a7e05e54a2fde7f707a8ecfc74b",
     "grade": true,
     "grade_id": "cell-1ab0361bec9f3c89",
     "locked": true,
     "points": 1,
     "schema_version": 3,
     "solution": false,
     "task": false
    }
   },
   "outputs": [],
   "source": [
    "# TEST\n",
    "assert len(find_rich_neighborhoods(training_data, 5, np.median))\n",
    "assert isinstance(rich_neighborhoods, list)\n",
    "assert all([isinstance(neighborhood, str) for neighborhood in rich_neighborhoods])"
   ]
  },
  {
   "cell_type": "code",
   "execution_count": null,
   "metadata": {
    "deletable": false,
    "editable": false,
    "nbgrader": {
     "cell_type": "code",
     "checksum": "e4bbb38a8b3f1f5213ab58e2e04081e2",
     "grade": true,
     "grade_id": "cell-7dae4a568c02ecb2",
     "locked": true,
     "points": 2,
     "schema_version": 3,
     "solution": false,
     "task": false
    }
   },
   "outputs": [],
   "source": []
  },
  {
   "cell_type": "markdown",
   "metadata": {
    "deletable": false,
    "editable": false,
    "nbgrader": {
     "cell_type": "markdown",
     "checksum": "c079b09410e26649341adca657b354bf",
     "grade": false,
     "grade_id": "cell-c6194035d55c97dc",
     "locked": true,
     "schema_version": 3,
     "solution": false,
     "task": false
    }
   },
   "source": [
    "#### Question 4b <a name=\"q4b\"></a> \n",
    "\n",
    "We now have a list of neighborhoods we've deemed as richer than others.  Let's use that information to make a new variable `in_rich_neighborhood`.  Write a function `add_rich_neighborhood` that adds an indicator variable which takes on the value 1 if the house is part of `rich_neighborhoods` and the value 0 otherwise.\n",
    "\n",
    "Note that [`pd.Series.astype`](https://pandas.pydata.org/pandas-docs/version/0.23.4/generated/pandas.Series.astype.html) may be useful for converting True/False values to integers.\n"
   ]
  },
  {
   "cell_type": "code",
   "execution_count": 21,
   "metadata": {
    "deletable": false,
    "nbgrader": {
     "cell_type": "code",
     "checksum": "e1b20b1068a01d3870733bcec56e73a2",
     "grade": false,
     "grade_id": "cell-57875237f2713b57",
     "locked": false,
     "schema_version": 3,
     "solution": true,
     "task": false
    }
   },
   "outputs": [],
   "source": [
    "def add_in_rich_neighborhood(data, neighborhoods):\n",
    "    \"\"\"\n",
    "    Input:\n",
    "      data (data frame): a data frame containing a 'Neighborhood' column with values\n",
    "        found in the codebook\n",
    "      neighborhoods (list of strings): strings should be the names of neighborhoods\n",
    "    Output:\n",
    "      data frame identical to the input with the addition of a binary\n",
    "      in_rich_neighborhood column\n",
    "    \"\"\"\n",
    "     # YOUR CODE HERE\n",
    "    data['in_rich_neighborhood'] = (data['Neighborhood']\n",
    "                                    .isin(neighborhoods)\n",
    "                                    .astype('int32'))\n",
    "    #raise NotImplementedError()\n",
    "    return data\n",
    "\n",
    "rich_neighborhoods = find_rich_neighborhoods(training_data, 3, np.median)\n",
    "training_data = add_in_rich_neighborhood(training_data, rich_neighborhoods)"
   ]
  },
  {
   "cell_type": "code",
   "execution_count": 22,
   "metadata": {
    "deletable": false,
    "editable": false,
    "nbgrader": {
     "cell_type": "code",
     "checksum": "a2fae5c0ea2182dcb3f5258195b99f4b",
     "grade": true,
     "grade_id": "cell-6eecb671f0583127",
     "locked": true,
     "points": 1,
     "schema_version": 3,
     "solution": false,
     "task": false
    }
   },
   "outputs": [],
   "source": [
    "# TEST\n",
    "assert sum(training_data.loc[:, 'in_rich_neighborhood']) == 191\n",
    "assert sum(training_data.loc[:, 'in_rich_neighborhood'].isnull()) == 0"
   ]
  },
  {
   "cell_type": "code",
   "execution_count": null,
   "metadata": {
    "deletable": false,
    "editable": false,
    "nbgrader": {
     "cell_type": "code",
     "checksum": "be8eb7a7755bf8765aae7d8cefa7f566",
     "grade": true,
     "grade_id": "cell-fd4b4b5f3e45d301",
     "locked": true,
     "points": 1,
     "schema_version": 3,
     "solution": false,
     "task": false
    }
   },
   "outputs": [],
   "source": []
  },
  {
   "cell_type": "markdown",
   "metadata": {
    "deletable": false,
    "editable": false,
    "nbgrader": {
     "cell_type": "markdown",
     "checksum": "35988257ac1ae27d2fda0468124c150c",
     "grade": false,
     "grade_id": "cell-5ffdfab3f8801658",
     "locked": true,
     "schema_version": 3,
     "solution": false
    }
   },
   "source": [
    "### Modeling\n",
    "\n",
    "We can use the features from Question 2, Question 3, and Question 4 to determine a model. \n",
    "\n",
    "#### Question 5 <a name=\"q5\"></a> \n",
    "\n",
    "Remember that we need to normalize features for regularization. If the features have different scales, then regularization will unduly shrink the weights for features with smaller scales.\n",
    "\n",
    "Write a function called `standardize` that inputs either a 1 dimensional array or a 2 dimensional array `Z` of numbers and outputs a copy of `Z` where the columns have been transformed to have mean 0 and standard deviation 1. \n",
    "\n",
    "To avoid dividing by a small number, you should add 0.00001 to the standard deviation in the denominator.  \n"
   ]
  },
  {
   "cell_type": "code",
   "execution_count": 23,
   "metadata": {
    "deletable": false,
    "nbgrader": {
     "cell_type": "code",
     "checksum": "5e3bbaf4fc93fd19d418d9e71ba55aa8",
     "grade": false,
     "grade_id": "cell-ed38d326f3ba48fa",
     "locked": false,
     "schema_version": 3,
     "solution": true,
     "task": false
    }
   },
   "outputs": [],
   "source": [
    "def standardize(Z):\n",
    "    \"\"\"\n",
    "    Input:\n",
    "       Z: 1 dimensional or 2 dimensional array \n",
    "    Outuput\n",
    "       copy of Z with columns having mean 0 and variance 1\n",
    "    \"\"\"\n",
    "    # YOUR CODE HERE\n",
    "    s = Z - Z.mean(axis = 0)\n",
    "    standardized = s / np.std(s, axis = 0)\n",
    "    return standardized\n",
    "    #raise NotImplementedError()"
   ]
  },
  {
   "cell_type": "code",
   "execution_count": 24,
   "metadata": {
    "deletable": false,
    "editable": false,
    "nbgrader": {
     "cell_type": "code",
     "checksum": "23ea2d5402f868f61db4a141266cb366",
     "grade": true,
     "grade_id": "cell-81ba80a113db1bde",
     "locked": true,
     "points": 1,
     "schema_version": 3,
     "solution": false,
     "task": false
    }
   },
   "outputs": [],
   "source": [
    "# TEST \n",
    "\n",
    "Z = training_data[['Garage_Area','Gr_Liv_Area']].values\n",
    "\n",
    "assert np.all(np.isclose(standardize(Z).sum(axis = 0), [0,0]))"
   ]
  },
  {
   "cell_type": "markdown",
   "metadata": {
    "deletable": false,
    "editable": false,
    "nbgrader": {
     "cell_type": "markdown",
     "checksum": "ae53b8a0f04c78f300cb01cf737cf48e",
     "grade": false,
     "grade_id": "cell-fefbc4ca6c9eb8bb",
     "locked": true,
     "schema_version": 3,
     "solution": false,
     "task": false
    }
   },
   "source": [
    "#### Question 6 <a name=\"q6\"></a>\n",
    "\n",
    "Let's split the training set into a training set and a validation set. We will use the training set to fit our model's parameters. We will use the validation set to estimate how well our model will perform on unseen data. If we used all the data to fit our model, we would not have a way to estimate model performance on unseen data."
   ]
  },
  {
   "cell_type": "code",
   "execution_count": 25,
   "metadata": {
    "deletable": false,
    "editable": false,
    "nbgrader": {
     "cell_type": "code",
     "checksum": "980106f031b8622c59180bca60affc4d",
     "grade": false,
     "grade_id": "cell-c040cdeb009dcd0d",
     "locked": true,
     "schema_version": 3,
     "solution": false,
     "task": false
    }
   },
   "outputs": [],
   "source": [
    "# RUN \n",
    "\n",
    "training_data_copy = pd.read_csv('training.csv')"
   ]
  },
  {
   "cell_type": "markdown",
   "metadata": {
    "deletable": false,
    "editable": false,
    "nbgrader": {
     "cell_type": "markdown",
     "checksum": "309a2ea2dbb1b7e1002fe6b3a771d0c8",
     "grade": false,
     "grade_id": "cell-72ec38f7d91bd6da",
     "locked": true,
     "schema_version": 3,
     "solution": false,
     "task": false
    }
   },
   "source": [
    "Split the data in `training_data_copy` into two DataFrames named `training_data` and `validating_data`. Let `training_data` contain 80% of the data, and let `validating_data` contain the remaining 20% of the data. \n",
    "\n",
    "To do this, first create two NumPy arrays named `train_indices` and `validate_indices`. `train_indices` should contain a *random* 80% of the indices, and `validate_indices` should contain the remaining 20% of the indices. Then, use these arrays as indices to break `training_data_copy` into two pieces.\n"
   ]
  },
  {
   "cell_type": "code",
   "execution_count": 26,
   "metadata": {
    "deletable": false,
    "editable": false,
    "nbgrader": {
     "cell_type": "code",
     "checksum": "1acecb804b209e1964b94126c5c4dc4d",
     "grade": false,
     "grade_id": "cell-700027ec3c0adc58",
     "locked": true,
     "schema_version": 3,
     "solution": false
    }
   },
   "outputs": [],
   "source": [
    "# This makes the train-test split in this section reproducible across different runs \n",
    "# of the notebook. You do not need this line to run train_test_split in general\n",
    "np.random.seed(47)\n",
    "\n",
    "training_data_len = len(training_data_copy)\n",
    "indices = np.arange(training_data_len)\n",
    "shuffled_indices = np.random.permutation(indices)"
   ]
  },
  {
   "cell_type": "code",
   "execution_count": 27,
   "metadata": {
    "deletable": false,
    "nbgrader": {
     "cell_type": "code",
     "checksum": "60fc18cc781127b5e9e557aef1939b06",
     "grade": false,
     "grade_id": "cell-700027ec3c0adc57",
     "locked": false,
     "schema_version": 3,
     "solution": true,
     "task": false
    }
   },
   "outputs": [],
   "source": [
    "# Set train_indices to the first 80% of shuffled_indices and validate_indices to the rest.\n",
    "\n",
    "# YOUR CODE HERE\n",
    "train_indices = shuffled_indices[:int(training_data_len * 0.8)]\n",
    "validate_indices = shuffled_indices[int(training_data_len * 0.8):]\n",
    "#raise NotImplementedError()"
   ]
  },
  {
   "cell_type": "code",
   "execution_count": 28,
   "metadata": {
    "deletable": false,
    "nbgrader": {
     "cell_type": "code",
     "checksum": "e5a552ee5337050946b759508f63923d",
     "grade": false,
     "grade_id": "cell-700027ec3c0adc59",
     "locked": false,
     "schema_version": 3,
     "solution": true,
     "task": false
    }
   },
   "outputs": [],
   "source": [
    "# Create training_data and validating_data by indexing training_data_copy with \n",
    "# `train_indices` and `validate_indices`\n",
    "\n",
    "# YOUR CODE HERE\n",
    "training_data = training_data_copy.iloc[train_indices]\n",
    "validating_data = training_data_copy.iloc[validate_indices]\n",
    "#raise NotImplementedError()"
   ]
  },
  {
   "cell_type": "code",
   "execution_count": 29,
   "metadata": {
    "deletable": false,
    "editable": false,
    "nbgrader": {
     "cell_type": "code",
     "checksum": "f6c28e0ca78f391b8446a0f547ff4c00",
     "grade": true,
     "grade_id": "cell-5c953b38a1bc4222",
     "locked": true,
     "points": 2,
     "schema_version": 3,
     "solution": false,
     "task": false
    }
   },
   "outputs": [],
   "source": [
    "# TEST\n",
    "assert training_data.shape == (1598, 82) # train should contain 80% of the data\n",
    "assert validating_data.shape == (400, 82) # test should contain 20% of the data"
   ]
  },
  {
   "cell_type": "code",
   "execution_count": 30,
   "metadata": {
    "deletable": false,
    "editable": false,
    "nbgrader": {
     "cell_type": "code",
     "checksum": "33c64b55f0e1fd30f3afb1da7dbcacda",
     "grade": true,
     "grade_id": "cell-f127bbfc3e63b2bb",
     "locked": true,
     "points": 1,
     "schema_version": 3,
     "solution": false,
     "task": false
    }
   },
   "outputs": [],
   "source": [
    "# TEST\n",
    "assert np.intersect1d(train_indices, validate_indices).size == 0 # make sure train_indices and test_indices have no overlap\n",
    "assert np.intersect1d(training_data['PID'], validating_data['PID']).size == 0 # make sure train and test have no overlapping houses"
   ]
  },
  {
   "cell_type": "markdown",
   "metadata": {
    "deletable": false,
    "editable": false,
    "nbgrader": {
     "cell_type": "markdown",
     "checksum": "5437c053088ed2ce28bd496bf5c46099",
     "grade": false,
     "grade_id": "cell-acdc861fd11912e9",
     "locked": true,
     "schema_version": 3,
     "solution": false
    }
   },
   "source": [
    "### Reusable Pipeline\n",
    "\n",
    "We want to try a couple different models. For each model, we will have to apply transformations to the data. By bundling the transformations together, we can apply can efficiently pass data to the different models. \n",
    "\n",
    "We use a single function called `process_data`. We select a handful of features to use from the many that are available."
   ]
  },
  {
   "cell_type": "code",
   "execution_count": 31,
   "metadata": {
    "deletable": false,
    "editable": false,
    "nbgrader": {
     "cell_type": "code",
     "checksum": "7d27e1cb110d933a710849fcca106eff",
     "grade": false,
     "grade_id": "cell-2fe1d82b2c19d1fa",
     "locked": true,
     "schema_version": 3,
     "solution": false
    }
   },
   "outputs": [],
   "source": [
    "# RUN\n",
    "\n",
    "def select_columns(data, columns):\n",
    "    \"\"\"Select only columns passed as arguments.\"\"\"\n",
    "    return data.loc[:, columns]\n",
    "\n",
    "def process_data(data):\n",
    "    \"\"\"Process the data for a guided model.\"\"\"\n",
    "    \n",
    "    # Transform Data, Select Features\n",
    "    nghds = find_rich_neighborhoods(data, 3, metric=np.median)\n",
    "    \n",
    "    data = ( data.pipe(add_total_bathrooms)\n",
    "                 .pipe(add_power,'Gr_Liv_Area', 2)\n",
    "                 .pipe(add_power,'Garage_Area', 2)\n",
    "                 .pipe(add_in_rich_neighborhood, nghds)\n",
    "                 .pipe(select_columns, ['SalePrice', \n",
    "                                          'Gr_Liv_Area', \n",
    "                                          'Garage_Area',\n",
    "                                          'Gr_Liv_Area2', \n",
    "                                          'Garage_Area2',\n",
    "                                          'TotalBathrooms',\n",
    "                                          'in_rich_neighborhood']) )\n",
    "    \n",
    "    # Return predictors and response variables separately\n",
    "    data.dropna(inplace = True)\n",
    "    X = data.drop(['SalePrice'], axis = 1)\n",
    "    X = standardize(X)\n",
    "    y = data.loc[:, 'SalePrice']\n",
    "    y = standardize(y)\n",
    "    \n",
    "    return X, y"
   ]
  },
  {
   "cell_type": "markdown",
   "metadata": {
    "deletable": false,
    "editable": false,
    "nbgrader": {
     "cell_type": "markdown",
     "checksum": "06c315395ca703d5caefc76a616810f3",
     "grade": false,
     "grade_id": "cell-61cc99b2a591de51",
     "locked": true,
     "schema_version": 3,
     "solution": false,
     "task": false
    }
   },
   "source": [
    "Note that we split our data into `X`, a matrix of features, and `y`, a vector of sale prices. \n",
    "\n",
    "Run the cell below to feed our training, validating and testing data through the pipeline, generating `X_train`, `y_train`, `X_test`, and `y_test`."
   ]
  },
  {
   "cell_type": "code",
   "execution_count": 32,
   "metadata": {
    "deletable": false,
    "editable": false,
    "nbgrader": {
     "cell_type": "code",
     "checksum": "6f1a0c941406e7ae542f4fdbfb8baba2",
     "grade": false,
     "grade_id": "cell-7f7c33e024fadbd8",
     "locked": true,
     "schema_version": 3,
     "solution": false,
     "task": false
    }
   },
   "outputs": [],
   "source": [
    "# RUN\n",
    "# Pre-process our training and test data in exactly the same way\n",
    "\n",
    "X_train, y_train = process_data(training_data)\n",
    "X_validate, y_validate = process_data(validating_data)\n",
    "X_test, y_test = process_data(testing_data)"
   ]
  },
  {
   "cell_type": "markdown",
   "metadata": {
    "deletable": false,
    "editable": false,
    "nbgrader": {
     "cell_type": "markdown",
     "checksum": "db160c98975072e77b28ddab065fe181",
     "grade": false,
     "grade_id": "cell-41994ca25b31660ea",
     "locked": true,
     "schema_version": 3,
     "solution": false
    }
   },
   "source": [
    "### Fitting the Model\n",
    "\n",
    "We are ready to fit a model.  The model we will fit can be written as follows:\n",
    "\n",
    "$$\\begin{align*}\n",
    "\\text{SalePrice} = \\theta_0 + \\theta_1 \\cdot \\text{Gr_Liv_Area} + \\theta_2 \\cdot \\text{Gr_Liv_Area2} \\\\ + \\theta_3 \\cdot \\text{Garage_Area} + \\theta_4 \\cdot \\text{Garage_Area2} \\\\ + \\theta_5 \\cdot \\text{is_in_rich_neighborhood} \\\\ + \\theta_6 \\cdot \\text{TotalBathrooms}\n",
    "\\end{align*}\n",
    "$$\n",
    "\n",
    "Here `Gr_Liv_Area`, `Gr_Liv_Area2`, `Garage_Area`, and `Garage_Area2` are continuous variables and `is_in_rich_neighborhood` and `TotalBathrooms` are discrete variables. While  `is_in_rich_neighborhood` is a one-hot encoding of categories, `TotalBathrooms` can be understsood as a number."
   ]
  },
  {
   "cell_type": "markdown",
   "metadata": {
    "deletable": false,
    "editable": false,
    "nbgrader": {
     "cell_type": "markdown",
     "checksum": "9bb4776c6fe25063cd4f5903c1995ccf",
     "grade": false,
     "grade_id": "cell-41994ca25b31660eb",
     "locked": true,
     "schema_version": 3,
     "solution": false
    }
   },
   "source": [
    "#### Question 7 <a name=\"q7\"></a>\n",
    "\n",
    "We will use a [`sklearn.linear_model.Ridge`](https://scikit-learn.org/stable/modules/generated/sklearn.linear_model.Ridge.html) to implement Ridge Regression. We must specify three inputs. \n",
    "\n",
    " - `normalize`: Having applied the function `standardize` to the data, we should set `normalize` to False\n",
    " - `fit_intercept`: Having applied the function `standardize` to the data, we should set `fit_intercept` to False. The intercept of our model corresponds to $\\theta_0$. Since the mean of the columns is 0, we know that $\\widehat{\\theta_0} = 0$\n",
    " - `alpha`: We need an extra parameter to specify the emphasis on regularization. Large values of `alpha` mean greater emphasis on regularization. We will try a range of values.\n",
    " \n",
    "For each value of alpha, generate a `Ridge` model. Store in the dictionary `models`.  \n",
    "\n"
   ]
  },
  {
   "cell_type": "code",
   "execution_count": 33,
   "metadata": {
    "deletable": false,
    "nbgrader": {
     "cell_type": "code",
     "checksum": "b59ebeb5b7c4bfe36b6d65f2af0932d2",
     "grade": false,
     "grade_id": "cell-90f365f40bd44c15",
     "locked": false,
     "schema_version": 3,
     "solution": true,
     "task": false
    }
   },
   "outputs": [],
   "source": [
    "models = dict()\n",
    "alphas = np.logspace(-4,4,10)\n",
    "\n",
    "for alpha in alphas:\n",
    "    # YOUR CODE HERE\n",
    "    ridge_regression_model = Ridge(alpha=alpha, fit_intercept=False, normalize=False)\n",
    "    #raise NotImplementedError()\n",
    "    models[alpha] = ridge_regression_model"
   ]
  },
  {
   "cell_type": "code",
   "execution_count": null,
   "metadata": {
    "deletable": false,
    "editable": false,
    "nbgrader": {
     "cell_type": "code",
     "checksum": "3470a2e0a8367acfa714ade0c0dc5c7f",
     "grade": true,
     "grade_id": "cell-033887dca7199a4a",
     "locked": true,
     "points": 2,
     "schema_version": 3,
     "solution": false,
     "task": false
    }
   },
   "outputs": [],
   "source": []
  },
  {
   "cell_type": "markdown",
   "metadata": {
    "deletable": false,
    "editable": false,
    "nbgrader": {
     "cell_type": "markdown",
     "checksum": "f67870aa69bbd392f576eb7c927507b0",
     "grade": false,
     "grade_id": "cell-270a46b20bb1eeff",
     "locked": true,
     "schema_version": 3,
     "solution": false,
     "task": false
    }
   },
   "source": [
    "For each `alpha`, fit the corresponding model in `models` with `X_train`, `y_train`."
   ]
  },
  {
   "cell_type": "code",
   "execution_count": 34,
   "metadata": {
    "deletable": false,
    "nbgrader": {
     "cell_type": "code",
     "checksum": "2f5375b4bd2710859139b52d28f6518f",
     "grade": false,
     "grade_id": "cell-1be99eea86f6cf57",
     "locked": false,
     "schema_version": 3,
     "solution": true
    }
   },
   "outputs": [],
   "source": [
    "\n",
    "for alpha, model in models.items():\n",
    "    # YOUR CODE HERE\n",
    "    #print(model)\n",
    "    model.fit(X_train, y_train)\n",
    "    #raise NotImplementedError()"
   ]
  },
  {
   "cell_type": "markdown",
   "metadata": {
    "deletable": false,
    "editable": false,
    "nbgrader": {
     "cell_type": "markdown",
     "checksum": "a89cfb75b51f865a6467bcec5772426f",
     "grade": false,
     "grade_id": "cell-2087618ccae6576e",
     "locked": true,
     "schema_version": 3,
     "solution": false,
     "task": false
    }
   },
   "source": [
    "Plot the weights for each value of `alpha`."
   ]
  },
  {
   "cell_type": "code",
   "execution_count": 35,
   "metadata": {
    "deletable": false,
    "editable": false,
    "nbgrader": {
     "cell_type": "code",
     "checksum": "1b147493f8e25b949fef603eec55d253",
     "grade": false,
     "grade_id": "cell-c82c6d36c0421c43",
     "locked": true,
     "schema_version": 3,
     "solution": false,
     "task": false
    }
   },
   "outputs": [
    {
     "data": {
      "image/png": "[encoded data removed]",
      "text/plain": [
       "<Figure size 432x288 with 1 Axes>"
      ]
     },
     "metadata": {
      "needs_background": "light"
     },
     "output_type": "display_data"
    }
   ],
   "source": [
    "# RUN\n",
    "\n",
    "labels =   ['Gr_Liv_Area', \n",
    "            'Garage_Area',\n",
    "            'Gr_Liv_Area2', \n",
    "            'Garage_Area2',\n",
    "            'TotalBathrooms',\n",
    "            'in_rich_neighborhood']\n",
    "\n",
    "coefs = []\n",
    "for alpha, model in models.items():\n",
    "    coefs.append(model.coef_)\n",
    "\n",
    "coefs = zip(*coefs)\n",
    "\n",
    "fig, ax = plt.subplots(ncols=1, nrows=1)\n",
    "\n",
    "for coef, label in zip(coefs, labels):\n",
    "    plt.plot(alphas, coef, label = label)\n",
    "\n",
    "ax.set_xscale('log')\n",
    "ax.set_xlim(ax.get_xlim()[::-1])  # reverse axis\n",
    "plt.xlabel('alpha')\n",
    "plt.ylabel('weights')\n",
    "plt.title('Ridge Regression Weights')\n",
    "plt.legend()\n",
    "plt.savefig('reg_path.png')"
   ]
  },
  {
   "cell_type": "code",
   "execution_count": 36,
   "metadata": {
    "deletable": false,
    "editable": false,
    "nbgrader": {
     "cell_type": "code",
     "checksum": "d30f7b177d39a34756dce8299ad62713",
     "grade": false,
     "grade_id": "cell-cbe29d5d161f4b14",
     "locked": true,
     "schema_version": 3,
     "solution": false,
     "task": false
    }
   },
   "outputs": [
    {
     "data": {
      "image/png": "[encoded data removed]",
      "text/plain": [
       "<IPython.core.display.Image object>"
      ]
     },
     "execution_count": 36,
     "metadata": {},
     "output_type": "execute_result"
    }
   ],
   "source": [
    "# RUN\n",
    "\n",
    "Image('reg_path.png')"
   ]
  },
  {
   "cell_type": "markdown",
   "metadata": {
    "deletable": false,
    "editable": false,
    "nbgrader": {
     "cell_type": "markdown",
     "checksum": "566d7912ddb731f2407b391ffde93430",
     "grade": false,
     "grade_id": "cell-da65a6401e1a2057",
     "locked": true,
     "schema_version": 3,
     "solution": false,
     "task": false
    }
   },
   "source": [
    "### Evaluating the Model\n",
    "\n",
    "Is our linear model any good at predicting house prices? Let's measure the quality of our model by calculating the Root-Mean-Square Error (RMSE) between our predicted house prices and the true prices stored in `SalePrice`.\n",
    "\n",
    "$$\\text{RMSE} = \\sqrt{\\dfrac{\\sum_{\\text{houses in test set}}(\\text{actual price of house} - \\text{predicted price of house})^2}{\\text{# of houses in data set}}}$$\n",
    "\n",
    "Here we have a function called `rmse` that calculates the RMSE of a model."
   ]
  },
  {
   "cell_type": "code",
   "execution_count": 37,
   "metadata": {
    "deletable": false,
    "editable": false,
    "nbgrader": {
     "cell_type": "code",
     "checksum": "12a498b375f56c80f6287f62e6a59e7d",
     "grade": false,
     "grade_id": "cell-96600fa98a6c2e97",
     "locked": true,
     "schema_version": 3,
     "solution": false,
     "task": false
    }
   },
   "outputs": [],
   "source": [
    "# RUN\n",
    "\n",
    "def rmse(actual, predicted):\n",
    "    \"\"\"\n",
    "    Calculates RMSE from actual and predicted values\n",
    "    Input:\n",
    "      actual (1D array): vector of actual values\n",
    "      predicted (1D array): vector of predicted/fitted values\n",
    "    Output:\n",
    "      a float, the root-mean square error\n",
    "    \"\"\"\n",
    "    return np.sqrt(np.mean((actual - predicted)**2)) # SOLUTION"
   ]
  },
  {
   "cell_type": "markdown",
   "metadata": {
    "deletable": false,
    "editable": false,
    "nbgrader": {
     "cell_type": "markdown",
     "checksum": "42e6add4be61105f87092eb2485ed3ce",
     "grade": false,
     "grade_id": "cell-151dfaa828a26a19",
     "locked": true,
     "schema_version": 3,
     "solution": false,
     "task": false
    }
   },
   "source": [
    "#### Question 8a <a name=\"q8a\"></a>\n",
    "\n",
    "For each `alpha`, use `rmse` to calculate the training error and validating error. "
   ]
  },
  {
   "cell_type": "code",
   "execution_count": 38,
   "metadata": {
    "deletable": false,
    "nbgrader": {
     "cell_type": "code",
     "checksum": "605430bd358dec1c553e5cffde7c846a",
     "grade": false,
     "grade_id": "cell-eb349dd7396c27df",
     "locked": false,
     "schema_version": 3,
     "solution": true,
     "task": false
    }
   },
   "outputs": [],
   "source": [
    "rmse_training = dict()\n",
    "rmse_validating = dict()\n",
    "\n",
    "for alpha, model in models.items():\n",
    "    # YOUR CODE HERE\n",
    "    rmse_training[model.alpha] = rmse(y_train,model.predict(X_train))\n",
    "    rmse_validating[model.alpha] = rmse(y_validate,model.predict(X_validate))\n",
    "    #raise NotImplementedError()\n",
    "    \n",
    "rmse_training = sorted(rmse_training.items(), key = lambda k: k[1])    \n",
    "rmse_validating = sorted(rmse_validating.items(), key = lambda k: k[1])   "
   ]
  },
  {
   "cell_type": "markdown",
   "metadata": {
    "deletable": false,
    "editable": false,
    "nbgrader": {
     "cell_type": "markdown",
     "checksum": "143b910f1135dd51ad1bfa18f7d0d54c",
     "grade": false,
     "grade_id": "cell-621f461ebe9200eb",
     "locked": true,
     "schema_version": 3,
     "solution": false,
     "task": false
    }
   },
   "source": [
    "Which value of `alpha` has the smalled RMSE on the training set?"
   ]
  },
  {
   "cell_type": "code",
   "execution_count": 39,
   "metadata": {
    "deletable": false,
    "nbgrader": {
     "cell_type": "code",
     "checksum": "b5e1951f565a526105d6c74b1fa9138b",
     "grade": false,
     "grade_id": "cell-b4d0dd419e1fb8ab",
     "locked": false,
     "schema_version": 3,
     "solution": true,
     "task": false
    }
   },
   "outputs": [],
   "source": [
    "alpha_training_min = rmse_training[0][0]\n",
    "\n",
    "# YOUR CODE HERE\n",
    "#raise NotImplementedError()"
   ]
  },
  {
   "cell_type": "code",
   "execution_count": 40,
   "metadata": {
    "deletable": false,
    "editable": false,
    "nbgrader": {
     "cell_type": "code",
     "checksum": "14615b92a570f8692520ed359dfc294f",
     "grade": true,
     "grade_id": "cell-b8708f499376dd84",
     "locked": true,
     "points": 0,
     "schema_version": 3,
     "solution": false,
     "task": false
    }
   },
   "outputs": [],
   "source": [
    "# TEST \n",
    "assert alpha_training_min in alphas"
   ]
  },
  {
   "cell_type": "code",
   "execution_count": null,
   "metadata": {
    "deletable": false,
    "editable": false,
    "nbgrader": {
     "cell_type": "code",
     "checksum": "092fa8c278db154ca5e271b103fd24ce",
     "grade": true,
     "grade_id": "cell-8181d38cdd4ae525",
     "locked": true,
     "points": 1,
     "schema_version": 3,
     "solution": false,
     "task": false
    }
   },
   "outputs": [],
   "source": []
  },
  {
   "cell_type": "markdown",
   "metadata": {
    "deletable": false,
    "editable": false,
    "nbgrader": {
     "cell_type": "markdown",
     "checksum": "8f2544b802114137d1d796c40707b722",
     "grade": false,
     "grade_id": "cell-627f224b980b36e5",
     "locked": true,
     "schema_version": 3,
     "solution": false,
     "task": false
    }
   },
   "source": [
    "Which value of `alpha` has the smallest RMSE on the validating set?"
   ]
  },
  {
   "cell_type": "code",
   "execution_count": 41,
   "metadata": {
    "deletable": false,
    "nbgrader": {
     "cell_type": "code",
     "checksum": "ecdf9e1cfaa394a4cb76ce97bbf712b7",
     "grade": false,
     "grade_id": "cell-f8a737144e4fd60c",
     "locked": false,
     "schema_version": 3,
     "solution": true,
     "task": false
    }
   },
   "outputs": [],
   "source": [
    "alpha_validating_min = rmse_validating[0][0]\n",
    "\n",
    "# YOUR CODE HERE\n",
    "#raise NotImplementedError()"
   ]
  },
  {
   "cell_type": "code",
   "execution_count": 42,
   "metadata": {
    "deletable": false,
    "editable": false,
    "nbgrader": {
     "cell_type": "code",
     "checksum": "0d4d1db18638bc94b837c02b119d7445",
     "grade": true,
     "grade_id": "cell-1938ff4cb7306a4e",
     "locked": true,
     "points": 0,
     "schema_version": 3,
     "solution": false,
     "task": false
    }
   },
   "outputs": [],
   "source": [
    "# TEST \n",
    "assert alpha_validating_min in alphas"
   ]
  },
  {
   "cell_type": "code",
   "execution_count": null,
   "metadata": {
    "deletable": false,
    "editable": false,
    "nbgrader": {
     "cell_type": "code",
     "checksum": "442127a0981b0835f64cb2c592ebeada",
     "grade": true,
     "grade_id": "cell-9ca8d1db09d3924a",
     "locked": true,
     "points": 1,
     "schema_version": 3,
     "solution": false,
     "task": false
    }
   },
   "outputs": [],
   "source": []
  },
  {
   "cell_type": "markdown",
   "metadata": {
    "deletable": false,
    "editable": false,
    "nbgrader": {
     "cell_type": "markdown",
     "checksum": "a29cfa5762ceb6d197907814278692f4",
     "grade": false,
     "grade_id": "cell-a359da2dda38fcdda",
     "locked": true,
     "schema_version": 3,
     "solution": false
    }
   },
   "source": [
    "#### Question 8b <a name=\"q8b\"></a>\n",
    "\n",
    "Using the `alpha` from Question 8a with the smallest RMSE on the validating set, predict `SalePrice` on the testing set. "
   ]
  },
  {
   "cell_type": "code",
   "execution_count": 43,
   "metadata": {
    "deletable": false,
    "nbgrader": {
     "cell_type": "code",
     "checksum": "c7fe83d1b32c49b6c970df2b7c1d5ad2",
     "grade": false,
     "grade_id": "cell-ae85a4ae89c5225c",
     "locked": false,
     "schema_version": 3,
     "solution": true,
     "task": false
    }
   },
   "outputs": [],
   "source": [
    "y_predict = models[alpha_validating_min].predict(X_test)\n",
    "\n",
    "# YOUR CODE HERE\n",
    "#raise NotImplementedError()"
   ]
  },
  {
   "cell_type": "markdown",
   "metadata": {
    "deletable": false,
    "editable": false,
    "nbgrader": {
     "cell_type": "markdown",
     "checksum": "89b9253693d3951a4d0329d2d9de4548",
     "grade": false,
     "grade_id": "cell-a359da2dda38fcdd",
     "locked": true,
     "points": 1,
     "schema_version": 3,
     "solution": false,
     "task": true
    }
   },
   "source": [
    "One way of understanding the appropriateness of a model is through a residual plot. Run the cell below to plot the actual sale prices against the residuals of the model for the test data."
   ]
  },
  {
   "cell_type": "code",
   "execution_count": 44,
   "metadata": {
    "deletable": false,
    "editable": false,
    "nbgrader": {
     "cell_type": "code",
     "checksum": "8c71c61135e4f4c4581bd93d3ed04ed4",
     "grade": false,
     "grade_id": "cell-4d79f42d60b94fca",
     "locked": true,
     "schema_version": 3,
     "solution": false
    }
   },
   "outputs": [
    {
     "data": {
      "image/png": "[encoded data removed]",
      "text/plain": [
       "<Figure size 432x288 with 1 Axes>"
      ]
     },
     "metadata": {
      "needs_background": "light"
     },
     "output_type": "display_data"
    }
   ],
   "source": [
    "# RUN\n",
    "\n",
    "residuals = y_test - y_predict\n",
    "ax = sns.regplot(y_test, residuals)\n",
    "ax.set_xlabel('Sale Price (Test Data)')\n",
    "ax.set_ylabel('Residuals (Actual Price - Predicted Price)')\n",
    "ax.set_title(\"Residuals vs. Sale Price on Test Data\")\n",
    "plt.savefig('residuals.png')\n"
   ]
  },
  {
   "cell_type": "code",
   "execution_count": 45,
   "metadata": {
    "deletable": false,
    "editable": false,
    "nbgrader": {
     "cell_type": "code",
     "checksum": "e755ec8a2efbfb9fb61833e105dafa24",
     "grade": false,
     "grade_id": "cell-1b26d87353040f2c",
     "locked": true,
     "schema_version": 3,
     "solution": false,
     "task": false
    }
   },
   "outputs": [
    {
     "data": {
      "image/png": "[encoded data removed]",
      "text/plain": [
       "<IPython.core.display.Image object>"
      ]
     },
     "execution_count": 45,
     "metadata": {},
     "output_type": "execute_result"
    }
   ],
   "source": [
    "# RUN\n",
    "\n",
    "Image('residuals.png')"
   ]
  },
  {
   "cell_type": "markdown",
   "metadata": {
    "deletable": false,
    "editable": false,
    "nbgrader": {
     "cell_type": "markdown",
     "checksum": "e80a5d9a72ce25d40d636361e668ae89",
     "grade": false,
     "grade_id": "cell-48eef5c211587ae7",
     "locked": true,
     "points": 0,
     "schema_version": 3,
     "solution": false,
     "task": true
    }
   },
   "source": [
    "#### Question 8c (Optional) <a name=\"q8c\"></a>\n",
    "\n",
    "\n",
    "Ideally, we would see a horizontal line of points at 0. The next best thing would be a set of points centered at 0. However the most expensive homes are always more expensive than our prediction. \n",
    "\n",
    "What changes could you make to your linear model to improve its accuracy and lower the test error? Suggest at least two things you could try in the cell below, and carefully explain how each change could potentially improve your model's accuracy."
   ]
  },
  {
   "cell_type": "markdown",
   "metadata": {
    "deletable": false,
    "editable": false,
    "nbgrader": {
     "cell_type": "markdown",
     "checksum": "64c405f0b1126da1e29555599c853ec8",
     "grade": false,
     "grade_id": "cell-5d4cdc6fddc39255",
     "locked": true,
     "points": 2,
     "schema_version": 3,
     "solution": false,
     "task": true
    }
   },
   "source": [
    "Your response here..."
   ]
  },
  {
   "cell_type": "markdown",
   "metadata": {},
   "source": [
    "One thing that you could do is remove the outliers from the data at a certain threshold, such that after a certain SalePrice for a home, we are not taking in account that data because we are aware that it will always be more expensive than our prediction  \n",
    "Another thing that can be done to improve the accuracy is to determine what other factors that we arent taking into account that may be affecting the price of a home, such as neighborhood, or size, and make sure that that information is also being taken into account for our model."
   ]
  },
  {
   "cell_type": "code",
   "execution_count": null,
   "metadata": {},
   "outputs": [],
   "source": []
  }
 ],
 "metadata": {
  "kernelspec": {
   "display_name": "Python 3",
   "language": "python",
   "name": "python3"
  },
  "language_info": {
   "codemirror_mode": {
    "name": "ipython",
    "version": 3
   },
   "file_extension": ".py",
   "mimetype": "text/x-python",
   "name": "python",
   "nbconvert_exporter": "python",
   "pygments_lexer": "ipython3",
   "version": "3.7.0"
  }
 },
 "nbformat": 4,
 "nbformat_minor": 2
}
