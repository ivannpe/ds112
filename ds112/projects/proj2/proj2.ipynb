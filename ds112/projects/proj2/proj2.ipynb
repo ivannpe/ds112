{
 "cells": [
  {
   "cell_type": "markdown",
   "metadata": {
    "deletable": false,
    "editable": false,
    "nbgrader": {
     "cell_type": "markdown",
     "checksum": "7359cd8f87815ec4471f5539e3c4cb56",
     "grade": false,
     "grade_id": "cell-20b412ee6b02555a",
     "locked": true,
     "schema_version": 3,
     "solution": false,
     "task": false
    }
   },
   "source": [
    "# Project 2: Classification of Spam Emails\n",
    "## Feature Selection, Logistic Regression, Cross Validation\n",
    "## Due Date: Thursday 12/12/19, 11:59PM"
   ]
  },
  {
   "cell_type": "markdown",
   "metadata": {
    "deletable": false,
    "editable": false,
    "nbgrader": {
     "cell_type": "markdown",
     "checksum": "bee83e8695654f23fc1d1c5ea09407f9",
     "grade": false,
     "grade_id": "intro",
     "locked": true,
     "schema_version": 3,
     "solution": false
    }
   },
   "source": [
    "In Project 2, we will develop a model that can classify spam emails from non-spam emails. Spam means junk, commercial or bulk. Non-spam is nicknamed ham.  \n",
    "\n",
    "We have provided you some code to help steer your analysis. We will evaluate the accuracy of your model along with your textual responses and visualizations. \n",
    "\n",
    "Following Project 2, you should have practice with...\n",
    "\n",
    "- Encoding text with number to determine features from written documents\n",
    "- Using sklearn packages to process data and fit models\n",
    "- Validating the performance of your model and reducing overfitting\n",
    "- Generating and analyzing precision-recall curves\n",
    "\n",
    "### Submission Instructions\n",
    "For this assignment, you will submit a copy to Gradescope. Follow these steps\n",
    "\n",
    "1. Download as HTML (`File->Download As->HTML(.html)`). \n",
    "1. Open the HTML in the browser. Print to .pdf \n",
    "1. Upload to Gradescope. Tag your answers. \n",
    "\n",
    "Note that \n",
    "\n",
    "- Please map your answers to our questions. Otherwise you may lose points. Please see the rubric below. \n",
    "- You should break long lines of code into multiple lines. Otherwise your code will extend out of view from the cell. Consider using `\\` followed by a new line. \n",
    "- For each textual response, please include relevant code that informed your response. For each plotting question, please include the code used to generate the plot.\n",
    "- You should not display large output cells such as all rows of a table. Instead convert the input cell from Code to Markdown back to Code to remove the output cell.\n",
    "\n",
    "Moreover you will submit a copy on Jupyter Hub under Assignments Tab. You cannot access the extension in JupyterLab. So if the URL ends with lab, then please change it to tree \n",
    "\n",
    "`https://pds-f19.jupyter.hpc.nyu.edu/user/[Your NetID]/tree`\n",
    "\n",
    "Consult the instructional video \n",
    "\n",
    "`https://nbgrader.readthedocs.io/en/stable/_images/student_assignment.gif` \n",
    "\n",
    "for steps to... \n",
    " 1. fetch \n",
    " 1. modify \n",
    " 1. optionally validate\n",
    " 1. submit your project\n",
    "\n",
    "Failure to follow these guidelines for submission could mean the deduction of two points. See the rubric below.\n",
    "\n",
    "### Collaboration Policy\n",
    "\n",
    "Data science is a collaborative activity. While you may talk with others about\n",
    "the homework, we ask that you **write your solutions individually**. If you do\n",
    "discuss the assignments with others please **include their names** at the top\n",
    "of your solution.\n"
   ]
  },
  {
   "cell_type": "markdown",
   "metadata": {},
   "source": [
    "**Collaborators**: *list collaborators here*"
   ]
  },
  {
   "cell_type": "markdown",
   "metadata": {},
   "source": [
    "Pooja Patel"
   ]
  },
  {
   "cell_type": "markdown",
   "metadata": {
    "deletable": false,
    "editable": false,
    "nbgrader": {
     "cell_type": "markdown",
     "checksum": "9d21bb8a370826f0fedaaa59a280e636",
     "grade": false,
     "grade_id": "cell-9384f988917547b0",
     "locked": true,
     "schema_version": 3,
     "solution": false,
     "task": false
    }
   },
   "source": [
    "### Rubric\n",
    "Question | Points\n",
    "--- | ---\n",
    "Submission Instructions | 2\n",
    "1a | 1\n",
    "1b | 1\n",
    "1c | 2\n",
    "2 | 3\n",
    "3a | 2\n",
    "3b | 2\n",
    "4 | 2\n",
    "5 | 2\n",
    "6a | 1\n",
    "6b | 1\n",
    "6c | 2\n",
    "6d | 2\n",
    "6e | 1\n",
    "6f | 3\n",
    "7 | 3\n",
    "8a | 2\n",
    "8b | 1\n",
    "Extra Credit | 5\n",
    "Total | 33"
   ]
  },
  {
   "cell_type": "markdown",
   "metadata": {},
   "source": [
    "Please import the following packages"
   ]
  },
  {
   "cell_type": "code",
   "execution_count": 1,
   "metadata": {
    "ExecuteTime": {
     "end_time": "2019-04-03T20:17:41.341673Z",
     "start_time": "2019-04-03T20:17:41.330307Z"
    },
    "deletable": false,
    "editable": false,
    "nbgrader": {
     "cell_type": "code",
     "checksum": "36bd1833fed2bd0b9643c1ea336ab405",
     "grade": false,
     "grade_id": "imports6465",
     "locked": true,
     "schema_version": 3,
     "solution": false
    }
   },
   "outputs": [],
   "source": [
    "from IPython.display import display, Markdown, Image\n",
    "import warnings\n",
    "warnings.simplefilter(action='ignore', category=FutureWarning)\n",
    "\n",
    "import numpy as np\n",
    "import pandas as pd\n",
    "\n",
    "import matplotlib.pyplot as plt\n",
    "%matplotlib inline\n",
    "\n",
    "import seaborn as sns\n",
    "sns.set(style = \"whitegrid\", \n",
    "        color_codes = True,\n",
    "        font_scale = 1.5)\n",
    "\n",
    "from sklearn.model_selection import train_test_split\n",
    "from sklearn.linear_model import LogisticRegression\n",
    "from sklearn.model_selection import KFold\n",
    "from sklearn.metrics import precision_recall_curve"
   ]
  },
  {
   "cell_type": "markdown",
   "metadata": {
    "deletable": false,
    "editable": false,
    "nbgrader": {
     "cell_type": "markdown",
     "checksum": "9bce9b0d54e57f3adad667f2112d99ff",
     "grade": false,
     "grade_id": "loading64654",
     "locked": true,
     "schema_version": 3,
     "solution": false
    }
   },
   "source": [
    "### 1. Loading in the Data\n",
    "\n",
    "In email classification, our goal is to classify emails as spam or not spam (referred to as \"ham\") using features generated from the text in the email. \n",
    "\n",
    "The dataset consists of email messages and their labels (0 for ham, 1 for spam). Your labeled training dataset contains 8348 labeled examples, and the test set contains 1000 unlabeled examples.\n",
    "\n",
    "Run the following cells to load in the data into DataFrames.\n",
    "\n",
    "The `train` DataFrame contains labeled data that you will use to train your model. It contains four columns:\n",
    "\n",
    "1. `id`: An identifier for the training example\n",
    "1. `subject`: The subject of the email\n",
    "1. `email`: The text of the email\n",
    "1. `spam`: 1 if the email is spam, 0 if the email is ham (not spam)\n",
    "\n",
    "The `test` DataFrame contains 1000 unlabeled emails. You will predict labels for these emails."
   ]
  },
  {
   "cell_type": "code",
   "execution_count": 2,
   "metadata": {
    "ExecuteTime": {
     "end_time": "2019-04-03T20:17:42.181245Z",
     "start_time": "2019-04-03T20:17:41.343927Z"
    },
    "deletable": false,
    "editable": false,
    "nbgrader": {
     "cell_type": "code",
     "checksum": "37e84f4c712eeb913194880dd610ca8f",
     "grade": false,
     "grade_id": "fetch-data5454654",
     "locked": true,
     "schema_version": 3,
     "solution": false
    }
   },
   "outputs": [],
   "source": [
    "# Load the data \n",
    "original_training_data = pd.read_csv('train.csv')\n",
    "test = pd.read_csv('test.csv')"
   ]
  },
  {
   "cell_type": "code",
   "execution_count": 3,
   "metadata": {
    "ExecuteTime": {
     "end_time": "2019-04-03T20:17:42.181245Z",
     "start_time": "2019-04-03T20:17:41.343927Z"
    },
    "deletable": false,
    "editable": false,
    "nbgrader": {
     "cell_type": "code",
     "checksum": "9dc197bab175ab5d9a96ee1ed84eca09",
     "grade": false,
     "grade_id": "fetch-data65465465",
     "locked": true,
     "schema_version": 3,
     "solution": false
    }
   },
   "outputs": [
    {
     "data": {
      "text/html": [
       "<div>\n",
       "<style scoped>\n",
       "    .dataframe tbody tr th:only-of-type {\n",
       "        vertical-align: middle;\n",
       "    }\n",
       "\n",
       "    .dataframe tbody tr th {\n",
       "        vertical-align: top;\n",
       "    }\n",
       "\n",
       "    .dataframe thead th {\n",
       "        text-align: right;\n",
       "    }\n",
       "</style>\n",
       "<table border=\"1\" class=\"dataframe\">\n",
       "  <thead>\n",
       "    <tr style=\"text-align: right;\">\n",
       "      <th></th>\n",
       "      <th>id</th>\n",
       "      <th>subject</th>\n",
       "      <th>email</th>\n",
       "      <th>spam</th>\n",
       "    </tr>\n",
       "  </thead>\n",
       "  <tbody>\n",
       "    <tr>\n",
       "      <th>0</th>\n",
       "      <td>0</td>\n",
       "      <td>Subject: A&amp;L Daily to be auctioned in bankrupt...</td>\n",
       "      <td>url: http://boingboing.net/#85534171\\n date: n...</td>\n",
       "      <td>0</td>\n",
       "    </tr>\n",
       "    <tr>\n",
       "      <th>1</th>\n",
       "      <td>1</td>\n",
       "      <td>Subject: Wired: \"Stronger ties between ISPs an...</td>\n",
       "      <td>url: http://scriptingnews.userland.com/backiss...</td>\n",
       "      <td>0</td>\n",
       "    </tr>\n",
       "    <tr>\n",
       "      <th>2</th>\n",
       "      <td>2</td>\n",
       "      <td>Subject: It's just too small                  ...</td>\n",
       "      <td>&lt;html&gt;\\n &lt;head&gt;\\n &lt;/head&gt;\\n &lt;body&gt;\\n &lt;font siz...</td>\n",
       "      <td>1</td>\n",
       "    </tr>\n",
       "    <tr>\n",
       "      <th>3</th>\n",
       "      <td>3</td>\n",
       "      <td>Subject: liberal defnitions\\n</td>\n",
       "      <td>depends on how much over spending vs. how much...</td>\n",
       "      <td>0</td>\n",
       "    </tr>\n",
       "    <tr>\n",
       "      <th>4</th>\n",
       "      <td>4</td>\n",
       "      <td>Subject: RE: [ILUG] Newbie seeks advice - Suse...</td>\n",
       "      <td>hehe sorry but if you hit caps lock twice the ...</td>\n",
       "      <td>0</td>\n",
       "    </tr>\n",
       "  </tbody>\n",
       "</table>\n",
       "</div>"
      ],
      "text/plain": [
       "   id                                            subject  \\\n",
       "0   0  Subject: A&L Daily to be auctioned in bankrupt...   \n",
       "1   1  Subject: Wired: \"Stronger ties between ISPs an...   \n",
       "2   2  Subject: It's just too small                  ...   \n",
       "3   3                      Subject: liberal defnitions\\n   \n",
       "4   4  Subject: RE: [ILUG] Newbie seeks advice - Suse...   \n",
       "\n",
       "                                               email  spam  \n",
       "0  url: http://boingboing.net/#85534171\\n date: n...     0  \n",
       "1  url: http://scriptingnews.userland.com/backiss...     0  \n",
       "2  <html>\\n <head>\\n </head>\\n <body>\\n <font siz...     1  \n",
       "3  depends on how much over spending vs. how much...     0  \n",
       "4  hehe sorry but if you hit caps lock twice the ...     0  "
      ]
     },
     "execution_count": 3,
     "metadata": {},
     "output_type": "execute_result"
    }
   ],
   "source": [
    "# Convert the emails to lower case as a first step to processing the text\n",
    "original_training_data['email'] = original_training_data['email'].str.lower()\n",
    "test['email'] = test['email'].str.lower()\n",
    "\n",
    "original_training_data.head()"
   ]
  },
  {
   "cell_type": "markdown",
   "metadata": {
    "deletable": false,
    "editable": false,
    "nbgrader": {
     "cell_type": "markdown",
     "checksum": "3432787045e96a267f1af9ad1a5a6070",
     "grade": false,
     "grade_id": "cell-34476156ed73b800",
     "locked": true,
     "schema_version": 3,
     "solution": false
    }
   },
   "source": [
    "### Question 1a\n",
    "First, let's check if our data contains any missing values. Fill in the cell below to print the number of NaN values in each column. If there are NaN values, replace them with appropriate filler values (i.e., NaN values in the `subject` or `email` columns should be replaced with empty strings). Print the number of NaN values in each column after this modification to verify that there are no NaN values left.\n",
    "\n",
    "Note that while there are no NaN values in the `spam` column, we should be careful when replacing NaN labels. Doing so without consideration may introduce significant bias into our model when fitting."
   ]
  },
  {
   "cell_type": "code",
   "execution_count": 4,
   "metadata": {
    "ExecuteTime": {
     "end_time": "2019-04-03T20:17:42.203231Z",
     "start_time": "2019-04-03T20:17:42.185104Z"
    },
    "deletable": false,
    "nbgrader": {
     "cell_type": "code",
     "checksum": "eb08d466c90b1046fb14f9c36dce3e35",
     "grade": false,
     "grade_id": "cell-b1fb39d9b651ca1b",
     "locked": false,
     "schema_version": 3,
     "solution": true
    }
   },
   "outputs": [],
   "source": [
    "# YOUR CODE HERE\n",
    "original_training_data['subject'].fillna('',inplace=True)\n",
    "original_training_data['email'].fillna('',inplace=True)\n",
    "test['email'].fillna('',inplace=True)\n",
    "test['subject'].fillna('',inplace=True)\n",
    "#original_training_data.isnull().sum()\n",
    "#raise NotImplementedError()"
   ]
  },
  {
   "cell_type": "code",
   "execution_count": 5,
   "metadata": {
    "ExecuteTime": {
     "end_time": "2019-04-03T20:17:42.225994Z",
     "start_time": "2019-04-03T20:17:42.205496Z"
    },
    "deletable": false,
    "editable": false,
    "nbgrader": {
     "cell_type": "code",
     "checksum": "623052ee95614d1abb36bedbd9e3a5c0",
     "grade": true,
     "grade_id": "cell-f5f50837c3255031",
     "locked": true,
     "points": 1,
     "schema_version": 3,
     "solution": false,
     "task": false
    }
   },
   "outputs": [],
   "source": [
    "# TEST\n",
    "assert original_training_data.isnull().sum().sum() == 0"
   ]
  },
  {
   "cell_type": "markdown",
   "metadata": {
    "deletable": false,
    "editable": false,
    "nbgrader": {
     "cell_type": "markdown",
     "checksum": "c3dc72031f01d42156e3504fd60da78d",
     "grade": false,
     "grade_id": "q16464",
     "locked": true,
     "schema_version": 3,
     "solution": false
    }
   },
   "source": [
    "### Question 1b\n",
    "\n",
    "In the cell below, print the text of the first ham and the fourth spam email in the original training set."
   ]
  },
  {
   "cell_type": "code",
   "execution_count": 6,
   "metadata": {
    "ExecuteTime": {
     "end_time": "2019-04-03T20:17:42.247245Z",
     "start_time": "2019-04-03T20:17:42.228451Z"
    },
    "deletable": false,
    "nbgrader": {
     "cell_type": "code",
     "checksum": "1737ec74c46df3138f9ea75af45d94e1",
     "grade": false,
     "grade_id": "q1-answer",
     "locked": false,
     "schema_version": 3,
     "solution": true
    }
   },
   "outputs": [
    {
     "name": "stdout",
     "output_type": "stream",
     "text": [
      "Ham \n",
      " url: http://boingboing.net/#85534171\n",
      " date: not supplied\n",
      " \n",
      " arts and letters daily, a wonderful and dense blog, has folded up its tent due \n",
      " to the bankruptcy of its parent company. a&l daily will be auctioned off by the \n",
      " receivers. link[1] discuss[2] (_thanks, misha!_)\n",
      " \n",
      " [1] http://www.aldaily.com/\n",
      " [2] http://www.quicktopic.com/boing/h/zlfterjnd6jf\n",
      " \n",
      " \n",
      "\n",
      "Spam \n",
      " dear ricardo1 ,\n",
      " \n",
      " <html>\n",
      " <body>\n",
      " <center>\n",
      " <b><font color = \"red\" size = \"+2.5\">cost effective direct email advertising</font><br>\n",
      " <font color = \"blue\" size = \"+2\">promote your business for as low as </font><br>\n",
      " <font color = \"red\" size = \"+2\">$50</font> <font color = \"blue\" size = \"+2\">per \n",
      " <font color = \"red\" size = \"+2\">1 million</font>\n",
      " <font color = \"blue\" size = \"+2\"> email addresses</font></font><p>\n",
      " <b><font color = \"#44c300\" size =\"+2\">maximize your marketing dollars!<p></font></b>\n",
      " <font size = \"+2\">complete and fax this information form to 309-407-7378.<br>\n",
      " a consultant will contact you to discuss your marketing needs.<br>\n",
      " </font></font>\n",
      " <table><tr><td>\n",
      " <font size = \"+1\"><b>name:___________________________________________________________________<br>\n",
      " <font size = \"+1\"><b>company:_______________________________________________________________<br>\n",
      " <font size = \"+1\"><b>address:________________________________________________________________<br>\n",
      " <font size = \"+1\"><b>city:_____________________________________________________________________<br>\n",
      " <font size = \"+1\"><b>state:___________________________________________________________________<br>\n",
      " <font size = \"+1\"><b>phone:___________________________________________________________________<br>\n",
      " <font size = \"+1\"><b>e-mail:__________________________________________________________________<br>\n",
      " <font size = \"+1\"><b>website: <font size = \"-1\" color = \"red\">(not required)</font>_______________________________________________________<br>\n",
      " ___________________________________________________________________________<br>\n",
      " ___________________________________________________________________________<br>\n",
      " <b><font color = \"red\">*</font>comments: <font color = \"red\" size = \"-1\">(provide details, pricing, etc. on the products and services you wish to market)</font><br>\n",
      " ___________________________________________________________________________<br>\n",
      " ___________________________________________________________________________<br>\n",
      " ___________________________________________________________________________<br>\n",
      " ___________________________________________________________________________<br>\n",
      " </td></tr>\n",
      " </table>\n",
      " </center>\n",
      " </body>\n",
      " </html>\n",
      " \n",
      "  [247(^(po1:kj)_8j7bjk9^\":}h&*tg0bk5nkiys5]\n",
      " \n",
      " \n",
      "\n"
     ]
    }
   ],
   "source": [
    "first_ham = (original_training_data[original_training_data['spam']==0]['email']\n",
    "             .iloc[0])\n",
    "fourth_spam = (original_training_data[original_training_data['spam']==1]['email']\n",
    "             .iloc[3])\n",
    "\n",
    "# YOUR CODE HERE\n",
    "#raise NotImplementedError()\n",
    "\n",
    "print(\"Ham \\n\", first_ham)\n",
    "print(\"Spam \\n\", fourth_spam)"
   ]
  },
  {
   "cell_type": "code",
   "execution_count": 7,
   "metadata": {
    "deletable": false,
    "editable": false,
    "nbgrader": {
     "cell_type": "code",
     "checksum": "2870d00e3608eae50770836e38d0a104",
     "grade": true,
     "grade_id": "cell-2775c128210366c3",
     "locked": true,
     "points": 0,
     "schema_version": 3,
     "solution": false,
     "task": false
    }
   },
   "outputs": [],
   "source": [
    "# TEST\n",
    "assert len(first_ham) > 0 and first_ham[:0] == ''\n",
    "assert len(fourth_spam) > 0 and fourth_spam[:0] == ''"
   ]
  },
  {
   "cell_type": "code",
   "execution_count": null,
   "metadata": {
    "ExecuteTime": {
     "end_time": "2019-04-03T20:17:42.268278Z",
     "start_time": "2019-04-03T20:17:42.249615Z"
    },
    "deletable": false,
    "editable": false,
    "nbgrader": {
     "cell_type": "code",
     "checksum": "b28d281662ceff52fc248d3ce9cc3a9e",
     "grade": true,
     "grade_id": "q1-tests64654",
     "locked": true,
     "points": 1,
     "schema_version": 3,
     "solution": false
    }
   },
   "outputs": [],
   "source": []
  },
  {
   "cell_type": "markdown",
   "metadata": {},
   "source": [
    "### Question 1c\n",
    "\n",
    "Discuss one thing you notice that is different between the two emails that might relate to the identification of spam."
   ]
  },
  {
   "cell_type": "code",
   "execution_count": 8,
   "metadata": {
    "deletable": false,
    "nbgrader": {
     "cell_type": "code",
     "checksum": "7c33e5a06b048ef31d32829ddd52919a",
     "grade": true,
     "grade_id": "q1-written",
     "locked": false,
     "points": 2,
     "schema_version": 3,
     "solution": true
    },
    "tags": [
     "solution",
     "written",
     "q01"
    ]
   },
   "outputs": [
    {
     "data": {
      "text/plain": [
       "'The ham email contains normal looking text, while \\n    the spam is all in markdown'"
      ]
     },
     "execution_count": 8,
     "metadata": {},
     "output_type": "execute_result"
    }
   ],
   "source": [
    "# YOUR CODE HERE\n",
    "\"\"\"The ham email contains normal looking text, while \n",
    "    the spam is all in markdown\"\"\"\n",
    "#raise NotImplementedError()"
   ]
  },
  {
   "cell_type": "markdown",
   "metadata": {
    "deletable": false,
    "editable": false,
    "nbgrader": {
     "cell_type": "markdown",
     "checksum": "f95e193c0ff30c51756f86aea56f384a",
     "grade": false,
     "grade_id": "cell-78513403ef52a957",
     "locked": true,
     "schema_version": 3,
     "solution": false
    }
   },
   "source": [
    "## Training Validation Split\n",
    "The training data is available for both training models and **validating** the models that we train.  We therefore need to split the training data into separate training and validation datsets.  You will need this **validation data** to assess the performance of your classifier once you are finished training. Note that we set the seed (random_state) to 42. This will produce a pseudo-random sequence of random numbers that is the same for every student. Do not modify this in the following questions, as our tests depend on this random seed."
   ]
  },
  {
   "cell_type": "code",
   "execution_count": 9,
   "metadata": {
    "ExecuteTime": {
     "end_time": "2019-04-03T20:17:42.317970Z",
     "start_time": "2019-04-03T20:17:42.294532Z"
    },
    "deletable": false,
    "editable": false,
    "nbgrader": {
     "cell_type": "code",
     "checksum": "1bbcb5878172d6a473244f70f8478b1a",
     "grade": false,
     "grade_id": "cell-873194ed3e686dfb",
     "locked": true,
     "schema_version": 3,
     "solution": false
    }
   },
   "outputs": [],
   "source": [
    "train, val = train_test_split(original_training_data, test_size=0.1, random_state=42)"
   ]
  },
  {
   "cell_type": "markdown",
   "metadata": {
    "deletable": false,
    "editable": false,
    "nbgrader": {
     "cell_type": "markdown",
     "checksum": "43b8998dec1270d64ea6e8224a86b950",
     "grade": false,
     "grade_id": "feat-eng",
     "locked": true,
     "schema_version": 3,
     "solution": false
    }
   },
   "source": [
    "## 2. Feature Selection\n",
    "\n",
    "We would like to take the text of an email and predict whether the email is ham or spam. This is a *classification* problem, so we can use logistic regression to train a classifier. Recall that to train an logistic regression model we need a numeric feature matrix $X$ and a vector of corresponding binary labels $y$.  Unfortunately, our data are text, not numbers. To address this, we can create numeric features derived from the email text and use those features for logistic regression.\n",
    "\n",
    "Each row of $X$ is an email. Each column of $X$ contains one feature for all the emails. We'll guide you through creating a simple feature, and you'll create more interesting ones when you are trying to increase your accuracy."
   ]
  },
  {
   "cell_type": "markdown",
   "metadata": {
    "deletable": false,
    "editable": false,
    "nbgrader": {
     "cell_type": "markdown",
     "checksum": "21d539bec126a401a6b37cffe49570a0",
     "grade": false,
     "grade_id": "q265465465",
     "locked": true,
     "schema_version": 3,
     "solution": false
    }
   },
   "source": [
    "### Question 2\n",
    "\n",
    "Create a function called `words_in_texts` that takes in a list of `words` and a pandas Series of email `texts`. It should output a 2-dimensional NumPy array containing one row for each email text. The row should contain either a 0 or a 1 for each word in the list: 0 if the word doesn't appear in the text and 1 if the word does. For example:\n",
    "\n",
    "```\n",
    ">>> words_in_texts(['hello', 'bye', 'world'], \n",
    "                   pd.Series(['hello', 'hello worldhello']))\n",
    "\n",
    "array([[1, 0, 0],\n",
    "       [1, 0, 1]])\n",
    "```"
   ]
  },
  {
   "cell_type": "code",
   "execution_count": 10,
   "metadata": {
    "ExecuteTime": {
     "end_time": "2019-04-03T20:17:42.337281Z",
     "start_time": "2019-04-03T20:17:42.320567Z"
    },
    "deletable": false,
    "nbgrader": {
     "cell_type": "code",
     "checksum": "95bde43f7eb42486a7876b79adf4da7e",
     "grade": false,
     "grade_id": "q2-answer",
     "locked": false,
     "schema_version": 3,
     "solution": true
    },
    "tags": [
     "student"
    ]
   },
   "outputs": [],
   "source": [
    "# YOUR CODE HERE\n",
    "def words_in_texts(words, texts):\n",
    "    indicator_array = []\n",
    "    for text in texts:\n",
    "        indicator_array.append([1 if word in text else 0 for word in words])\n",
    "    return np.array(indicator_array)\n",
    "#raise NotImplementedError()"
   ]
  },
  {
   "cell_type": "code",
   "execution_count": 11,
   "metadata": {
    "ExecuteTime": {
     "end_time": "2019-04-03T20:17:42.360479Z",
     "start_time": "2019-04-03T20:17:42.339357Z"
    },
    "deletable": false,
    "editable": false,
    "nbgrader": {
     "cell_type": "code",
     "checksum": "1eed1c62596b6ce225458a39d7471713",
     "grade": true,
     "grade_id": "q2-tests",
     "locked": true,
     "points": 1,
     "schema_version": 3,
     "solution": false
    },
    "tags": [
     "solution"
    ]
   },
   "outputs": [],
   "source": [
    "# TEST\n",
    "assert np.allclose(words_in_texts(['hello', 'bye', 'world'], \n",
    "                           pd.Series(['hello', 'hello worldhello'])),\n",
    "            np.array([[1, 0, 0], \n",
    "                      [1, 0, 1]])) == True"
   ]
  },
  {
   "cell_type": "code",
   "execution_count": null,
   "metadata": {
    "ExecuteTime": {
     "end_time": "2019-04-03T20:17:42.383646Z",
     "start_time": "2019-04-03T20:17:42.363015Z"
    },
    "deletable": false,
    "editable": false,
    "nbgrader": {
     "cell_type": "code",
     "checksum": "8d27e144faed0ea2d1cfea4d644b4d38",
     "grade": true,
     "grade_id": "cell-2910a119bdba057c",
     "locked": true,
     "points": 2,
     "schema_version": 3,
     "solution": false,
     "task": false
    }
   },
   "outputs": [],
   "source": []
  },
  {
   "cell_type": "markdown",
   "metadata": {
    "deletable": false,
    "editable": false,
    "nbgrader": {
     "cell_type": "markdown",
     "checksum": "3934698cb74da31d23d8d5b754b0babb",
     "grade": false,
     "grade_id": "eda",
     "locked": true,
     "schema_version": 3,
     "solution": false
    }
   },
   "source": [
    "## 3. Visualization\n",
    "We need to identify some features that allow us to distinguish spam emails from ham emails. One idea is to compare the distribution of a single feature in spam emails to the distribution of the same feature in ham emails. If the feature is itself a binary indicator, such as whether a certain word occurs in the text, this amounts to comparing the proportion of spam emails with the word to the proportion of ham emails with the word.\n"
   ]
  },
  {
   "cell_type": "markdown",
   "metadata": {
    "deletable": false,
    "editable": false,
    "nbgrader": {
     "cell_type": "markdown",
     "checksum": "2d422513197088939c3a7f9de19d349a",
     "grade": false,
     "grade_id": "q3a",
     "locked": true,
     "schema_version": 3,
     "solution": false
    }
   },
   "source": [
    "The following plot (which was created using `sns.barplot`) compares the proportion of emails in each class containing a particular set of words. \n",
    "\n",
    "You will want to use DataFrame's `.melt` method to \"unpivot\" a DataFrame. "
   ]
  },
  {
   "cell_type": "code",
   "execution_count": 12,
   "metadata": {
    "deletable": false,
    "editable": false,
    "nbgrader": {
     "cell_type": "code",
     "checksum": "35b3d33d9b38a7b9b4e9e41db7856e22",
     "grade": false,
     "grade_id": "cell-d2dbc1dc9af331cf",
     "locked": true,
     "schema_version": 3,
     "solution": false,
     "task": false
    }
   },
   "outputs": [
    {
     "data": {
      "image/png": "[encoded data removed]",
      "text/plain": [
       "<IPython.core.display.Image object>"
      ]
     },
     "execution_count": 12,
     "metadata": {},
     "output_type": "execute_result"
    }
   ],
   "source": [
    "Image('./training_conditional_proportions.png')"
   ]
  },
  {
   "cell_type": "code",
   "execution_count": 13,
   "metadata": {
    "ExecuteTime": {
     "end_time": "2019-04-03T20:17:42.428419Z",
     "start_time": "2019-04-03T20:17:42.386697Z"
    },
    "deletable": false,
    "editable": false,
    "nbgrader": {
     "cell_type": "code",
     "checksum": "bdfdd3350ff285d9da946a1134c6abe9",
     "grade": false,
     "grade_id": "cell-fb164da4b82362e4",
     "locked": true,
     "schema_version": 3,
     "solution": false,
     "task": false
    }
   },
   "outputs": [
    {
     "data": {
      "text/html": [
       "<div>\n",
       "<style scoped>\n",
       "    .dataframe tbody tr th:only-of-type {\n",
       "        vertical-align: middle;\n",
       "    }\n",
       "\n",
       "    .dataframe tbody tr th {\n",
       "        vertical-align: top;\n",
       "    }\n",
       "\n",
       "    .dataframe thead th {\n",
       "        text-align: right;\n",
       "    }\n",
       "</style>\n",
       "<table border=\"1\" class=\"dataframe\">\n",
       "  <thead>\n",
       "    <tr style=\"text-align: right;\">\n",
       "      <th></th>\n",
       "      <th>word_1</th>\n",
       "      <th>word_2</th>\n",
       "      <th>type</th>\n",
       "    </tr>\n",
       "  </thead>\n",
       "  <tbody>\n",
       "    <tr>\n",
       "      <th>0</th>\n",
       "      <td>1</td>\n",
       "      <td>0</td>\n",
       "      <td>spam</td>\n",
       "    </tr>\n",
       "    <tr>\n",
       "      <th>1</th>\n",
       "      <td>0</td>\n",
       "      <td>1</td>\n",
       "      <td>ham</td>\n",
       "    </tr>\n",
       "    <tr>\n",
       "      <th>2</th>\n",
       "      <td>1</td>\n",
       "      <td>0</td>\n",
       "      <td>ham</td>\n",
       "    </tr>\n",
       "    <tr>\n",
       "      <th>3</th>\n",
       "      <td>0</td>\n",
       "      <td>1</td>\n",
       "      <td>ham</td>\n",
       "    </tr>\n",
       "  </tbody>\n",
       "</table>\n",
       "</div>"
      ],
      "text/plain": [
       "   word_1  word_2  type\n",
       "0       1       0  spam\n",
       "1       0       1   ham\n",
       "2       1       0   ham\n",
       "3       0       1   ham"
      ]
     },
     "metadata": {},
     "output_type": "display_data"
    }
   ],
   "source": [
    "df = pd.DataFrame({\n",
    "    'word_1': [1, 0, 1, 0],\n",
    "    'word_2': [0, 1, 0, 1],\n",
    "    'type': ['spam', 'ham', 'ham', 'ham']\n",
    "})\n",
    "display(df)"
   ]
  },
  {
   "cell_type": "markdown",
   "metadata": {
    "ExecuteTime": {
     "end_time": "2019-04-03T20:17:42.428419Z",
     "start_time": "2019-04-03T20:17:42.386697Z"
    },
    "deletable": false,
    "editable": false,
    "nbgrader": {
     "cell_type": "markdown",
     "checksum": "e8b6fbaa241b231c6ecb09b6f593d2b6",
     "grade": false,
     "grade_id": "cell-ed77ce8818e15b4f",
     "locked": true,
     "schema_version": 3,
     "solution": false,
     "task": false
    }
   },
   "source": [
    "Our Original DataFrame has some words column and a type column. You can think of each row is a sentence, and the value of 1 or 0 indicates the number of occurances of the word in this sentence."
   ]
  },
  {
   "cell_type": "code",
   "execution_count": 14,
   "metadata": {
    "ExecuteTime": {
     "end_time": "2019-04-03T20:17:42.428419Z",
     "start_time": "2019-04-03T20:17:42.386697Z"
    },
    "deletable": false,
    "editable": false,
    "nbgrader": {
     "cell_type": "code",
     "checksum": "61ac04284546b4b9f4afb86bbbaa02ee",
     "grade": false,
     "grade_id": "cell-c1896ac423c933ba",
     "locked": true,
     "schema_version": 3,
     "solution": false,
     "task": false
    }
   },
   "outputs": [
    {
     "data": {
      "text/html": [
       "<div>\n",
       "<style scoped>\n",
       "    .dataframe tbody tr th:only-of-type {\n",
       "        vertical-align: middle;\n",
       "    }\n",
       "\n",
       "    .dataframe tbody tr th {\n",
       "        vertical-align: top;\n",
       "    }\n",
       "\n",
       "    .dataframe thead th {\n",
       "        text-align: right;\n",
       "    }\n",
       "</style>\n",
       "<table border=\"1\" class=\"dataframe\">\n",
       "  <thead>\n",
       "    <tr style=\"text-align: right;\">\n",
       "      <th></th>\n",
       "      <th>type</th>\n",
       "      <th>variable</th>\n",
       "      <th>value</th>\n",
       "    </tr>\n",
       "  </thead>\n",
       "  <tbody>\n",
       "    <tr>\n",
       "      <th>0</th>\n",
       "      <td>spam</td>\n",
       "      <td>word_1</td>\n",
       "      <td>1</td>\n",
       "    </tr>\n",
       "    <tr>\n",
       "      <th>1</th>\n",
       "      <td>ham</td>\n",
       "      <td>word_1</td>\n",
       "      <td>0</td>\n",
       "    </tr>\n",
       "    <tr>\n",
       "      <th>2</th>\n",
       "      <td>ham</td>\n",
       "      <td>word_1</td>\n",
       "      <td>1</td>\n",
       "    </tr>\n",
       "    <tr>\n",
       "      <th>3</th>\n",
       "      <td>ham</td>\n",
       "      <td>word_1</td>\n",
       "      <td>0</td>\n",
       "    </tr>\n",
       "    <tr>\n",
       "      <th>4</th>\n",
       "      <td>spam</td>\n",
       "      <td>word_2</td>\n",
       "      <td>0</td>\n",
       "    </tr>\n",
       "    <tr>\n",
       "      <th>5</th>\n",
       "      <td>ham</td>\n",
       "      <td>word_2</td>\n",
       "      <td>1</td>\n",
       "    </tr>\n",
       "    <tr>\n",
       "      <th>6</th>\n",
       "      <td>ham</td>\n",
       "      <td>word_2</td>\n",
       "      <td>0</td>\n",
       "    </tr>\n",
       "    <tr>\n",
       "      <th>7</th>\n",
       "      <td>ham</td>\n",
       "      <td>word_2</td>\n",
       "      <td>1</td>\n",
       "    </tr>\n",
       "  </tbody>\n",
       "</table>\n",
       "</div>"
      ],
      "text/plain": [
       "   type variable  value\n",
       "0  spam   word_1      1\n",
       "1   ham   word_1      0\n",
       "2   ham   word_1      1\n",
       "3   ham   word_1      0\n",
       "4  spam   word_2      0\n",
       "5   ham   word_2      1\n",
       "6   ham   word_2      0\n",
       "7   ham   word_2      1"
      ]
     },
     "execution_count": 14,
     "metadata": {},
     "output_type": "execute_result"
    }
   ],
   "source": [
    "df.melt(\"type\")"
   ]
  },
  {
   "cell_type": "markdown",
   "metadata": {
    "ExecuteTime": {
     "end_time": "2019-04-03T20:17:42.428419Z",
     "start_time": "2019-04-03T20:17:42.386697Z"
    },
    "deletable": false,
    "editable": false,
    "nbgrader": {
     "cell_type": "markdown",
     "checksum": "ae9b62c56907dda22ff9007cd3d9dd5d",
     "grade": false,
     "grade_id": "cell-9a414dfdfb83dceb",
     "locked": true,
     "schema_version": 3,
     "solution": false,
     "task": false
    }
   },
   "source": [
    "`melt` will turn columns into variable, notice how `word_1` and `word_2` become `variable`, their values are stored in the value column\""
   ]
  },
  {
   "cell_type": "markdown",
   "metadata": {
    "deletable": false,
    "editable": false,
    "nbgrader": {
     "cell_type": "markdown",
     "checksum": "033717dbfd5959cd52292a358fa066d6",
     "grade": false,
     "grade_id": "cell-8aaf4ab9dc8f5fdd",
     "locked": true,
     "schema_version": 3,
     "solution": false,
     "task": false
    }
   },
   "source": [
    "### Question 3a\n",
    "\n",
    "Create a bar chart like the one above comparing the proportion of spam and ham emails containing certain words. Choose a set of words that are different from the ones above, but also have different proportions for the two classes. Make sure to only consider emails from `train`. Save the bar chart as `training_conditional_proportions.png`\n"
   ]
  },
  {
   "cell_type": "code",
   "execution_count": 15,
   "metadata": {
    "ExecuteTime": {
     "end_time": "2019-04-03T20:17:43.145246Z",
     "start_time": "2019-04-03T20:17:42.430406Z"
    },
    "deletable": false,
    "nbgrader": {
     "cell_type": "code",
     "checksum": "92c0adba7b46da2fe39794b7913ba2cf",
     "grade": true,
     "grade_id": "q3a-answer564654",
     "locked": false,
     "points": 2,
     "schema_version": 3,
     "solution": true
    }
   },
   "outputs": [
    {
     "data": {
      "image/png": "[encoded data removed]",
      "text/plain": [
       "<Figure size 432x288 with 1 Axes>"
      ]
     },
     "metadata": {
      "needs_background": "light"
     },
     "output_type": "display_data"
    },
    {
     "data": {
      "text/plain": [
       "<Figure size 432x288 with 0 Axes>"
      ]
     },
     "metadata": {},
     "output_type": "display_data"
    }
   ],
   "source": [
    "train=train.reset_index(drop=True)\n",
    "\n",
    "# YOUR CODE HERE\n",
    "words_set = ['win', 'buy','sell','promote']\n",
    "ham_emails_contents = train[train['spam'] == 0]['email']\n",
    "spam_emails_contents = train[train['spam'] == 1]['email']\n",
    "words_in_ham = words_in_texts(words_set, ham_emails_contents)\n",
    "words_in_spam = words_in_texts(words_set, spam_emails_contents)\n",
    "words_in_ham_cnt = np.sum(words_in_ham, axis=0)\n",
    "words_in_spam_cnt = np.sum(words_in_spam, axis=0)\n",
    "\n",
    "bar_width = 0.35\n",
    "plt.bar(x=words_set,align='edge',height=words_in_ham_cnt/len(ham_emails_contents), label='Ham',width=-bar_width)\n",
    "plt.bar(x=words_set,align='edge',height=words_in_spam_cnt/len(spam_emails_contents), label='Spam',width=bar_width)\n",
    "plt.legend()\n",
    "plt.xlabel('Words')\n",
    "plt.ylabel('Proportion of Emails')\n",
    "plt.title('Frequency of Words in Spam/Ham Emails')\n",
    "plt.show()\n",
    "#raise NotImplementedError()\n",
    "plt.savefig(\"training_conditional_proportions.png\")\n"
   ]
  },
  {
   "cell_type": "code",
   "execution_count": 16,
   "metadata": {
    "deletable": false,
    "editable": false,
    "nbgrader": {
     "cell_type": "code",
     "checksum": "ee9bd270c353c7b9260dde4add6cce7f",
     "grade": false,
     "grade_id": "cell-70aa5b494882ebd7",
     "locked": true,
     "schema_version": 3,
     "solution": false,
     "task": false
    }
   },
   "outputs": [
    {
     "data": {
      "image/png": "[encoded data removed]",
      "text/plain": [
       "<IPython.core.display.Image object>"
      ]
     },
     "execution_count": 16,
     "metadata": {},
     "output_type": "execute_result"
    }
   ],
   "source": [
    "# RUN \n",
    "\n",
    "Image('training_conditional_proportions.png')"
   ]
  },
  {
   "cell_type": "markdown",
   "metadata": {
    "deletable": false,
    "editable": false,
    "nbgrader": {
     "cell_type": "markdown",
     "checksum": "d9996d3ffae78f2851274e5f43e146a8",
     "grade": false,
     "grade_id": "q3b6465454546546546",
     "locked": true,
     "schema_version": 3,
     "solution": false
    }
   },
   "source": [
    "When the feature is binary, it makes sense to compare its proportions across classes (as in the previous question). Otherwise, if the feature can take on numeric values, we can compare the distributions of these values for different classes. "
   ]
  },
  {
   "cell_type": "code",
   "execution_count": 17,
   "metadata": {
    "deletable": false,
    "editable": false,
    "nbgrader": {
     "cell_type": "code",
     "checksum": "2191566103ccd8170a03b9ae2cd02586",
     "grade": false,
     "grade_id": "q3b6465456465465465111",
     "locked": true,
     "schema_version": 3,
     "solution": false
    }
   },
   "outputs": [
    {
     "data": {
      "image/png": "[encoded data removed]",
      "text/plain": [
       "<IPython.core.display.Image object>"
      ]
     },
     "execution_count": 17,
     "metadata": {},
     "output_type": "execute_result"
    }
   ],
   "source": [
    "Image('training_conditional_densities2.png')"
   ]
  },
  {
   "cell_type": "markdown",
   "metadata": {},
   "source": [
    "### Question 3b\n",
    "\n",
    "Create a *class conditional density plot* like the one above (using `sns.distplot`), comparing the distribution of the length of spam emails to the distribution of the length of ham emails in the training set. Set the x-axis limit from 0 to 50000.\n",
    "\n"
   ]
  },
  {
   "cell_type": "code",
   "execution_count": 18,
   "metadata": {
    "ExecuteTime": {
     "end_time": "2019-04-03T20:17:43.492661Z",
     "start_time": "2019-04-03T20:17:43.149431Z"
    },
    "deletable": false,
    "nbgrader": {
     "cell_type": "code",
     "checksum": "180a3d83a4530704c67f4f690ea6487a",
     "grade": true,
     "grade_id": "q3b-answer11122122",
     "locked": false,
     "points": 2,
     "schema_version": 3,
     "solution": true
    }
   },
   "outputs": [
    {
     "data": {
      "text/plain": [
       "Text(0.5, 0, 'Length of email body')"
      ]
     },
     "execution_count": 18,
     "metadata": {},
     "output_type": "execute_result"
    },
    {
     "data": {
      "image/png": "[encoded data removed]",
      "text/plain": [
       "<Figure size 432x288 with 1 Axes>"
      ]
     },
     "metadata": {
      "needs_background": "light"
     },
     "output_type": "display_data"
    }
   ],
   "source": [
    "# YOUR CODE HERE\n",
    "spam_lens = [len(t) for t in train[train['spam'] == 1]['email']]\n",
    "ham_lens = [len(t) for t in train[train['spam'] == 0]['email']]\n",
    "\n",
    "plt.xlim(0, 50000)\n",
    "sns.distplot(ham_lens, label='Ham', hist=False)\n",
    "sns.distplot(spam_lens, label='Spam', hist=False)\n",
    "plt.legend()\n",
    "plt.ylabel('Distribution')\n",
    "plt.xlabel('Length of email body')\n",
    "#raise NotImplementedError()"
   ]
  },
  {
   "cell_type": "markdown",
   "metadata": {
    "deletable": false,
    "editable": false,
    "nbgrader": {
     "cell_type": "markdown",
     "checksum": "c2b4c357a86afc8e1a5055af9df70402",
     "grade": false,
     "grade_id": "classification544434",
     "locked": true,
     "schema_version": 3,
     "solution": false
    }
   },
   "source": [
    "## 4. Classification\n",
    "\n",
    "Notice that the output of `words_in_texts(words, train['email'])` is a numeric matrix containing features for each email. This means we can use it directly to train a classifier!"
   ]
  },
  {
   "cell_type": "markdown",
   "metadata": {
    "deletable": false,
    "editable": false,
    "nbgrader": {
     "cell_type": "markdown",
     "checksum": "3a1def898cdf17e495ef45588963b7e1",
     "grade": false,
     "grade_id": "q4654654",
     "locked": true,
     "schema_version": 3,
     "solution": false
    }
   },
   "source": [
    "### Question 4\n",
    "\n",
    "We've given you 5 words that might be useful as features to distinguish spam/ham emails. Use these words as well as the `train` DataFrame to create two NumPy arrays: `X_train` and `Y_train`.\n",
    "\n",
    "`X_train` should be a matrix of 0s and 1s created by using your `words_in_texts` function on all the emails in the training set.\n",
    "\n",
    "`Y_train` should be a vector of the correct labels for each email in the training set."
   ]
  },
  {
   "cell_type": "code",
   "execution_count": 19,
   "metadata": {
    "ExecuteTime": {
     "end_time": "2019-04-03T20:17:43.726012Z",
     "start_time": "2019-04-03T20:17:43.498088Z"
    },
    "deletable": false,
    "nbgrader": {
     "cell_type": "code",
     "checksum": "c7ec336381fe265d1965a7a69bbc1dee",
     "grade": false,
     "grade_id": "q4-answer",
     "locked": false,
     "schema_version": 3,
     "solution": true
    },
    "tags": [
     "student"
    ]
   },
   "outputs": [
    {
     "data": {
      "text/plain": [
       "(array([[0, 0, 0, 0, 0],\n",
       "        [0, 0, 0, 0, 0],\n",
       "        [0, 0, 0, 0, 0],\n",
       "        [0, 0, 0, 0, 0],\n",
       "        [0, 0, 0, 1, 0]]), 0    0\n",
       " 1    0\n",
       " 2    0\n",
       " 3    0\n",
       " 4    0\n",
       " Name: spam, dtype: int64)"
      ]
     },
     "execution_count": 19,
     "metadata": {},
     "output_type": "execute_result"
    }
   ],
   "source": [
    "some_words = ['drug', 'bank', 'prescription', 'memo', 'private']\n",
    "\n",
    "X_train = (np.array(words_in_texts(some_words, train['email'])).astype(int))\n",
    "Y_train = train['spam']\n",
    "\n",
    "# YOUR CODE HERE\n",
    "#raise NotImplementedError()\n",
    "\n",
    "X_train[:5], Y_train[:5]"
   ]
  },
  {
   "cell_type": "code",
   "execution_count": 20,
   "metadata": {
    "ExecuteTime": {
     "end_time": "2019-04-03T20:17:43.760621Z",
     "start_time": "2019-04-03T20:17:43.737756Z"
    },
    "deletable": false,
    "editable": false,
    "nbgrader": {
     "cell_type": "code",
     "checksum": "248925767c1356f301aee3ae145b3011",
     "grade": true,
     "grade_id": "cell-b9c6a9b317f63685",
     "locked": true,
     "points": 1,
     "schema_version": 3,
     "solution": false,
     "task": false
    }
   },
   "outputs": [],
   "source": [
    "# TEST\n",
    "assert X_train.shape == (7513, 5) # X matrix should have a certain size\n",
    "assert np.all(np.unique(X_train) == np.array([0, 1])) # X matrix should consist of only 0 or 1"
   ]
  },
  {
   "cell_type": "code",
   "execution_count": null,
   "metadata": {
    "ExecuteTime": {
     "end_time": "2019-04-03T20:17:43.781683Z",
     "start_time": "2019-04-03T20:17:43.762984Z"
    },
    "deletable": false,
    "editable": false,
    "nbgrader": {
     "cell_type": "code",
     "checksum": "d17399db14d6b524b9c9c86bc60a4719",
     "grade": true,
     "grade_id": "cell-fc30c69c507e5d2b",
     "locked": true,
     "points": 1,
     "schema_version": 3,
     "solution": false,
     "task": false
    }
   },
   "outputs": [],
   "source": []
  },
  {
   "cell_type": "markdown",
   "metadata": {
    "deletable": false,
    "editable": false,
    "nbgrader": {
     "cell_type": "markdown",
     "checksum": "d796beeb5720e6c99b168aac66582cf6",
     "grade": false,
     "grade_id": "q55465111111",
     "locked": true,
     "schema_version": 3,
     "solution": false
    }
   },
   "source": [
    "## Fitting the Model"
   ]
  },
  {
   "cell_type": "markdown",
   "metadata": {
    "deletable": false,
    "editable": false,
    "nbgrader": {
     "cell_type": "markdown",
     "checksum": "39c448cc7e275017db951482a2cb46cf",
     "grade": false,
     "grade_id": "q55646546",
     "locked": true,
     "schema_version": 3,
     "solution": false
    }
   },
   "source": [
    "### Question 5\n",
    "\n",
    "Now we have matrices we can give to scikit-learn! Using the [`LogisticRegression`](http://scikit-learn.org/stable/modules/generated/sklearn.linear_model.LogisticRegression.html) classifier, train a logistic regression model using `X_train` and `Y_train`. Then, output the accuracy of the model (on the training data) in the cell below. You should get an accuracy around 0.75.\n",
    "\n"
   ]
  },
  {
   "cell_type": "code",
   "execution_count": 21,
   "metadata": {
    "ExecuteTime": {
     "end_time": "2019-04-03T20:17:44.593918Z",
     "start_time": "2019-04-03T20:17:43.783872Z"
    },
    "deletable": false,
    "nbgrader": {
     "cell_type": "code",
     "checksum": "bf49be693e053df8b8d9622f94d26bc1",
     "grade": false,
     "grade_id": "q5-answer5465465",
     "locked": false,
     "schema_version": 3,
     "solution": true
    },
    "tags": [
     "student"
    ]
   },
   "outputs": [
    {
     "name": "stdout",
     "output_type": "stream",
     "text": [
      "Training Accuracy:  0.7576201251164648\n"
     ]
    }
   ],
   "source": [
    "from sklearn.linear_model import LogisticRegression\n",
    "model = LogisticRegression()\n",
    "model.fit(X_train, Y_train)\n",
    "\n",
    "# YOUR CODE HERE\n",
    "#raise NotImplementedError()\n",
    "\n",
    "training_accuracy = model.score(X_train, Y_train)\n",
    "print(\"Training Accuracy: \", training_accuracy)"
   ]
  },
  {
   "cell_type": "code",
   "execution_count": 22,
   "metadata": {
    "ExecuteTime": {
     "end_time": "2019-04-03T20:17:44.604064Z",
     "start_time": "2019-04-03T20:17:44.598114Z"
    },
    "deletable": false,
    "editable": false,
    "nbgrader": {
     "cell_type": "code",
     "checksum": "fd3d104af045dd0b20fb013d2f3c09b3",
     "grade": true,
     "grade_id": "q5-tests654654",
     "locked": true,
     "points": 1,
     "schema_version": 3,
     "solution": false
    },
    "tags": [
     "solution"
    ]
   },
   "outputs": [],
   "source": [
    "# TEST\n",
    "assert training_accuracy > 0.72"
   ]
  },
  {
   "cell_type": "code",
   "execution_count": null,
   "metadata": {
    "deletable": false,
    "editable": false,
    "nbgrader": {
     "cell_type": "code",
     "checksum": "230253204a2c356243838de6aff95884",
     "grade": true,
     "grade_id": "cell-63bc47516993dc2d",
     "locked": true,
     "points": 1,
     "schema_version": 3,
     "solution": false,
     "task": false
    }
   },
   "outputs": [],
   "source": []
  },
  {
   "cell_type": "markdown",
   "metadata": {},
   "source": [
    "## 6. Evaluating Classifiers"
   ]
  },
  {
   "cell_type": "markdown",
   "metadata": {},
   "source": [
    "That doesn't seem too shabby! But the classifier you made above isn't as good as this might lead us to believe. First, we are evaluating accuracy on the training set, which may lead to a misleading accuracy measure, especially if we used the training set to identify discriminative features. In future parts of this analysis, it will be safer to hold out some of our data for model validation and comparison.\n",
    "\n",
    "Presumably, our classifier will be used for **filtering**, i.e. preventing messages labeled `spam` from reaching someone's inbox. There are two kinds of errors we can make:\n",
    "- False positive (FP): a ham email gets flagged as spam and filtered out of the inbox.\n",
    "- False negative (FN): a spam email gets mislabeled as ham and ends up in the inbox.\n",
    "\n",
    "These definitions depend both on the true labels and the predicted labels. False positives and false negatives may be of differing importance, leading us to consider more ways of evaluating a classifier, in addition to overall accuracy:\n",
    "\n",
    "**Precision** measures the proportion $\\frac{\\text{TP}}{\\text{TP} + \\text{FP}}$ of emails flagged as spam that are actually spam.\n",
    "\n",
    "**Recall** measures the proportion $\\frac{\\text{TP}}{\\text{TP} + \\text{FN}}$ of spam emails that were correctly flagged as spam. \n",
    "\n",
    "**False-alarm rate** measures the proportion $\\frac{\\text{FP}}{\\text{FP} + \\text{TN}}$ of ham emails that were incorrectly flagged as spam. \n",
    "\n",
    "The following image might help:\n",
    "\n",
    "<img src=\"https://upload.wikimedia.org/wikipedia/commons/thumb/2/26/Precisionrecall.svg/700px-Precisionrecall.svg.png\" width=\"400px\">\n",
    "\n",
    "Note that a true positive (TP) is a spam email that is classified as spam, and a true negative (TN) is a ham email that is classified as ham."
   ]
  },
  {
   "cell_type": "markdown",
   "metadata": {
    "deletable": false,
    "editable": false,
    "nbgrader": {
     "cell_type": "markdown",
     "checksum": "287bb4e5c2f3e7571098841760997b5d",
     "grade": false,
     "grade_id": "q665465",
     "locked": true,
     "schema_version": 3,
     "solution": false
    }
   },
   "source": [
    "### Question 6a\n",
    "\n",
    "Suppose we have a classifier `zero_predictor` that always predicts 0 (never predicts positive). How many false positives and false negatives would this classifier have if it were evaluated on the training set and its results were compared to `Y_train`? Fill in the variables below (answers can be hard-coded):"
   ]
  },
  {
   "cell_type": "code",
   "execution_count": 23,
   "metadata": {
    "ExecuteTime": {
     "end_time": "2019-04-03T20:20:13.853633Z",
     "start_time": "2019-04-03T20:20:13.825724Z"
    },
    "deletable": false,
    "nbgrader": {
     "cell_type": "code",
     "checksum": "9caaeb87cddbea3bcb6bc22210ad4c63",
     "grade": false,
     "grade_id": "q6a-answer",
     "locked": false,
     "schema_version": 3,
     "solution": true
    }
   },
   "outputs": [],
   "source": [
    "zero_predictor_fp = 0\n",
    "zero_predictor_fn = len(train[train['spam'] == 1])\n",
    "\n",
    "# YOUR CODE HERE\n",
    "#raise NotImplementedError()"
   ]
  },
  {
   "cell_type": "code",
   "execution_count": 24,
   "metadata": {
    "deletable": false,
    "editable": false,
    "nbgrader": {
     "cell_type": "code",
     "checksum": "875bb227aee58779e0cecbc183ffece3",
     "grade": true,
     "grade_id": "cell-28e9b7af53b98b1e",
     "locked": true,
     "points": 0,
     "schema_version": 3,
     "solution": false,
     "task": false
    }
   },
   "outputs": [],
   "source": [
    "# TEST\n",
    "assert zero_predictor_fp >= 0\n",
    "assert zero_predictor_fn >= 0"
   ]
  },
  {
   "cell_type": "code",
   "execution_count": null,
   "metadata": {
    "ExecuteTime": {
     "end_time": "2019-04-03T20:20:13.948145Z",
     "start_time": "2019-04-03T20:20:13.943161Z"
    },
    "deletable": false,
    "editable": false,
    "nbgrader": {
     "cell_type": "code",
     "checksum": "03281d26836aa9ffec43d64e6e7020eb",
     "grade": true,
     "grade_id": "q6a-tests",
     "locked": true,
     "points": 1,
     "schema_version": 3,
     "solution": false
    }
   },
   "outputs": [],
   "source": []
  },
  {
   "cell_type": "markdown",
   "metadata": {},
   "source": [
    "### Question 6b\n",
    "\n",
    "What are the accuracy and recall of `zero_predictor` (classifies every email as ham) on the training set? Do NOT use any `sklearn` functions."
   ]
  },
  {
   "cell_type": "code",
   "execution_count": 25,
   "metadata": {
    "ExecuteTime": {
     "end_time": "2019-04-03T20:23:21.553134Z",
     "start_time": "2019-04-03T20:23:21.548219Z"
    },
    "deletable": false,
    "nbgrader": {
     "cell_type": "code",
     "checksum": "68cb296db610c511625fd745bc45600a",
     "grade": false,
     "grade_id": "cell-64e79124b16b6d2f",
     "locked": false,
     "schema_version": 3,
     "solution": true,
     "task": false
    }
   },
   "outputs": [],
   "source": [
    "zero_predictor_acc = len(train[train['spam'] == 0]) / len(train)\n",
    "zero_predictor_recall = 0\n",
    "\n",
    "# YOUR CODE HERE\n",
    "#raise NotImplementedError()"
   ]
  },
  {
   "cell_type": "code",
   "execution_count": 26,
   "metadata": {
    "deletable": false,
    "editable": false,
    "nbgrader": {
     "cell_type": "code",
     "checksum": "2334a304070a6b5733c21bcc1d5afbef",
     "grade": true,
     "grade_id": "cell-2e289c79045313e9",
     "locked": true,
     "points": 0,
     "schema_version": 3,
     "solution": false,
     "task": false
    }
   },
   "outputs": [],
   "source": [
    "# TEST\n",
    "assert zero_predictor_acc >= 0\n",
    "assert zero_predictor_recall >= 0"
   ]
  },
  {
   "cell_type": "code",
   "execution_count": null,
   "metadata": {
    "ExecuteTime": {
     "end_time": "2019-04-03T20:23:37.477726Z",
     "start_time": "2019-04-03T20:23:37.471905Z"
    },
    "deletable": false,
    "editable": false,
    "nbgrader": {
     "cell_type": "code",
     "checksum": "c809ff0ffb4c5b7efdff6addeb5d7768",
     "grade": true,
     "grade_id": "cell-b4ba268f8fbc58bd",
     "locked": true,
     "points": 1,
     "schema_version": 3,
     "solution": false,
     "task": false
    }
   },
   "outputs": [],
   "source": []
  },
  {
   "cell_type": "markdown",
   "metadata": {
    "deletable": false,
    "editable": false,
    "nbgrader": {
     "cell_type": "markdown",
     "checksum": "3fb3410ed8c3a2c9494344e2aeb2ca2f",
     "grade": false,
     "grade_id": "cell-1fcff1b95187207f",
     "locked": true,
     "schema_version": 3,
     "solution": false,
     "task": false
    }
   },
   "source": [
    "### Question 6c\n",
    "\n",
    "Provide brief explanations of the results from 6a and 6b. Why do we observe each of these values (FP, FN, accuracy, recall)?"
   ]
  },
  {
   "cell_type": "code",
   "execution_count": 27,
   "metadata": {
    "deletable": false,
    "nbgrader": {
     "cell_type": "code",
     "checksum": "b7d55bd0a10f6df1125906c5eb7f1f4e",
     "grade": true,
     "grade_id": "cell-6e21fddfd29c3870",
     "locked": false,
     "points": 2,
     "schema_version": 3,
     "solution": true,
     "task": false
    }
   },
   "outputs": [
    {
     "name": "stdout",
     "output_type": "stream",
     "text": [
      "6a: Because the zero predictor always predicts 0 and \n",
      "    never predicts true positive, it wont predict positive so \n",
      "    false positive is 0 and the false negative is the total \n",
      "    number of spams \n",
      " 6b: Since emails are considered spam\n",
      "    the accuracy is the hams divided by total emails \n",
      " We\n",
      "    need to observe the \n",
      " FP: to know the ham emails flagged\n",
      "    as spam and removed from inbox \n",
      " FN: to know number of spam\n",
      "    emails mislables as hams that end up in the inbox \n",
      " accuracy\n",
      "    to know how many hams are correctly labeled \n",
      " recall\n",
      "    to know how many spams are labeled spam, but since its the \n",
      "    zero predictor, none are labeled\n"
     ]
    }
   ],
   "source": [
    "# YOUR CODE HERE\n",
    "print(\"\"\"6a: Because the zero predictor always predicts 0 and \n",
    "    never predicts true positive, it wont predict positive so \n",
    "    false positive is 0 and the false negative is the total \n",
    "    number of spams \\n 6b: Since emails are considered spam\n",
    "    the accuracy is the hams divided by total emails \\n We\n",
    "    need to observe the \\n FP: to know the ham emails flagged\n",
    "    as spam and removed from inbox \\n FN: to know number of spam\n",
    "    emails mislables as hams that end up in the inbox \\n accuracy\n",
    "    to know how many hams are correctly labeled \\n recall\n",
    "    to know how many spams are labeled spam, but since its the \n",
    "    zero predictor, none are labeled\"\"\")\n",
    "#raise NotImplementedError()"
   ]
  },
  {
   "cell_type": "markdown",
   "metadata": {},
   "source": [
    "### Question 6d\n",
    "\n",
    "Consider the the `LogisticRegression` model from Question 5. Without using any `sklearn` functions, compute the precision, recall, and false-alarm rate of on the training set.\n"
   ]
  },
  {
   "cell_type": "code",
   "execution_count": 28,
   "metadata": {
    "ExecuteTime": {
     "end_time": "2019-04-03T20:37:54.875265Z",
     "start_time": "2019-04-03T20:37:54.720667Z"
    },
    "deletable": false,
    "nbgrader": {
     "cell_type": "code",
     "checksum": "aec2f22d06565083ae95e9892e43afc5",
     "grade": false,
     "grade_id": "cell-d2ebd61c6cb6ef2a",
     "locked": false,
     "schema_version": 3,
     "solution": true,
     "task": false
    }
   },
   "outputs": [],
   "source": [
    "Y_train_hat = model.predict(X_train)\n",
    "\n",
    "\n",
    "# # YOUR CODE HERE\n",
    "# #raise NotImplementedError()\n",
    "\n",
    "\n",
    "TP = np.sum(Y_train_hat & Y_train)\n",
    "FP = np.sum(Y_train_hat) - TP\n",
    "TN = np.sum(Y_train==0) - FP\n",
    "FN = np.sum(Y_train) - TP\n",
    "\n",
    "\n",
    "logistic_predictor_precision = TP / (TP + FP) \n",
    "logistic_predictor_recall = TP / (TP + FN) \n",
    "logistic_predictor_far = FP / (FP + TN) "
   ]
  },
  {
   "cell_type": "code",
   "execution_count": 29,
   "metadata": {
    "deletable": false,
    "editable": false,
    "nbgrader": {
     "cell_type": "code",
     "checksum": "9b7b2491b22fa79edac90cd4540b0154",
     "grade": true,
     "grade_id": "cell-fa04b667d85bc7c3",
     "locked": true,
     "points": 1,
     "schema_version": 3,
     "solution": false,
     "task": false
    }
   },
   "outputs": [],
   "source": [
    "# TEST\n",
    "assert logistic_predictor_precision >= 0\n",
    "assert logistic_predictor_recall >= 0\n",
    "assert logistic_predictor_far >= 0"
   ]
  },
  {
   "cell_type": "code",
   "execution_count": null,
   "metadata": {
    "deletable": false,
    "editable": false,
    "nbgrader": {
     "cell_type": "code",
     "checksum": "0d1cf1d89c50cf474d7e02e0b7aab825",
     "grade": true,
     "grade_id": "cell-0f93825922a09e7e",
     "locked": true,
     "points": 1,
     "schema_version": 3,
     "solution": false,
     "task": false
    }
   },
   "outputs": [],
   "source": []
  },
  {
   "cell_type": "markdown",
   "metadata": {},
   "source": [
    "Without using any `sklearn` functions, compute the precision, recall, and false-alarm rate of on the validation set."
   ]
  },
  {
   "cell_type": "code",
   "execution_count": 30,
   "metadata": {
    "deletable": false,
    "nbgrader": {
     "cell_type": "code",
     "checksum": "13155e72c97537bfdb6651da2fb24f5f",
     "grade": false,
     "grade_id": "cell-c8dbc440cc9b5d22",
     "locked": false,
     "schema_version": 3,
     "solution": true,
     "task": false
    }
   },
   "outputs": [],
   "source": [
    "X_val = words_in_texts(some_words, val['email']) \n",
    "Y_val = np.array(val['spam']) \n",
    "Y_val_hat = model.predict(X_val)\n",
    "\n",
    "TP = np.sum(Y_val_hat & Y_val)\n",
    "FP = np.sum(Y_val_hat) - TP\n",
    "TN = np.sum(Y_val==0) - FP\n",
    "FN = np.sum(Y_val) - TP\n",
    "\n",
    "# YOUR CODE HERE\n",
    "logistic_predictor_precision = TP / (TP + FP) \n",
    "logistic_predictor_recall = TP / (TP + FN) \n",
    "logistic_predictor_far = FP / (FP + TN) \n",
    "#raise NotImplementedError()"
   ]
  },
  {
   "cell_type": "markdown",
   "metadata": {},
   "source": [
    "We can visualize these numbers on the validation set with a confusion matrix."
   ]
  },
  {
   "cell_type": "markdown",
   "metadata": {},
   "source": [
    "Executing the following cell should produce an image like..."
   ]
  },
  {
   "cell_type": "code",
   "execution_count": 31,
   "metadata": {
    "deletable": false,
    "editable": false,
    "nbgrader": {
     "cell_type": "code",
     "checksum": "a2844f5265907886e754ce41e278676c",
     "grade": false,
     "grade_id": "cell-b41f54ada0c5271b",
     "locked": true,
     "schema_version": 3,
     "solution": false,
     "task": false
    }
   },
   "outputs": [
    {
     "data": {
      "image/png": "[encoded data removed]",
      "text/plain": [
       "<IPython.core.display.Image object>"
      ]
     },
     "execution_count": 31,
     "metadata": {},
     "output_type": "execute_result"
    }
   ],
   "source": [
    "Image('confusion_matrix.PNG')"
   ]
  },
  {
   "cell_type": "code",
   "execution_count": 32,
   "metadata": {
    "deletable": false,
    "editable": false,
    "nbgrader": {
     "cell_type": "code",
     "checksum": "571bf29758a3d446b72a6b915a3eb564",
     "grade": false,
     "grade_id": "cell-ecb1efbd3e664d8d",
     "locked": true,
     "schema_version": 3,
     "solution": false,
     "task": false
    }
   },
   "outputs": [
    {
     "data": {
      "image/png": "[encoded data removed]",
      "text/plain": [
       "<Figure size 432x288 with 1 Axes>"
      ]
     },
     "metadata": {
      "needs_background": "light"
     },
     "output_type": "display_data"
    }
   ],
   "source": [
    "def plot_confusion(confusion):\n",
    "    sns.heatmap(confusion, annot=True, fmt='d',\n",
    "                cmap=\"Blues\", annot_kws={'fontsize': 24}, square=True,\n",
    "                xticklabels=[1, 0], yticklabels=[1, 0], cbar=False)\n",
    "    plt.gca().xaxis.set_label_position('top')\n",
    "    plt.xlabel('True')\n",
    "    plt.ylabel('Predicted')\n",
    "\n",
    "confusion = np.array([\n",
    "    [TP, FP],\n",
    "    [FP, TN],\n",
    "])\n",
    "    \n",
    "plot_confusion(confusion)"
   ]
  },
  {
   "cell_type": "code",
   "execution_count": 33,
   "metadata": {},
   "outputs": [
    {
     "data": {
      "image/png": "[encoded data removed]",
      "text/plain": [
       "<Figure size 432x288 with 1 Axes>"
      ]
     },
     "metadata": {
      "needs_background": "light"
     },
     "output_type": "display_data"
    }
   ],
   "source": [
    "\"\"\"ERROR IN ABOVE BLOCK I CANNOT EDIT \"\"\"\n",
    "def plot_confusion(confusion):\n",
    "    sns.heatmap(confusion, annot=True, fmt='d',\n",
    "                cmap=\"Blues\", annot_kws={'fontsize': 24}, square=True,\n",
    "                xticklabels=[1, 0], yticklabels=[1, 0], cbar=False)\n",
    "    plt.gca().xaxis.set_label_position('top')\n",
    "    plt.xlabel('True')\n",
    "    plt.ylabel('Predicted')\n",
    "\n",
    "confusion = np.array([\n",
    "    [TP, FP],\n",
    "    [FN, TN],\n",
    "])\n",
    "    \n",
    "plot_confusion(confusion)"
   ]
  },
  {
   "cell_type": "markdown",
   "metadata": {},
   "source": [
    "### Question 6e\n",
    "\n",
    "Are there more false positives or false negatives when using the logistic regression classifier from Question 5?\n"
   ]
  },
  {
   "cell_type": "code",
   "execution_count": 34,
   "metadata": {
    "deletable": false,
    "nbgrader": {
     "cell_type": "code",
     "checksum": "3a9685969d0a264d2cd7996aad5b4e3e",
     "grade": true,
     "grade_id": "cell-088d4f3de863a07b",
     "locked": false,
     "points": 1,
     "schema_version": 3,
     "solution": true,
     "task": false
    }
   },
   "outputs": [
    {
     "data": {
      "text/plain": [
       "'more false negatives'"
      ]
     },
     "execution_count": 34,
     "metadata": {},
     "output_type": "execute_result"
    }
   ],
   "source": [
    "# YOUR CODE HERE\n",
    "\"\"\"more false negatives\"\"\"\n",
    "#raise NotImplementedError()"
   ]
  },
  {
   "cell_type": "markdown",
   "metadata": {},
   "source": [
    "### Question 6f\n",
    "\n",
    "1. Our logistic regression classifier got 75.6% prediction accuracy (number of correct predictions / total). How does this compare with predicting 0 for every email?\n",
    "1. Given the word features we gave you above, name one reason this classifier is performing poorly. Hint: Think about how prevalent these words are in the email set.\n",
    "1. Which of these two classifiers would you prefer for a spam filter and why? Describe your reasoning and relate it to at least one of the evaluation metrics you have computed so far."
   ]
  },
  {
   "cell_type": "code",
   "execution_count": 35,
   "metadata": {
    "deletable": false,
    "nbgrader": {
     "cell_type": "code",
     "checksum": "c5c39c3cc9c5bf8ec751f189ca69d153",
     "grade": true,
     "grade_id": "cell-901e42e55b83176c",
     "locked": false,
     "points": 3,
     "schema_version": 3,
     "solution": true,
     "task": false
    }
   },
   "outputs": [
    {
     "name": "stdout",
     "output_type": "stream",
     "text": [
      "\n",
      "\n",
      "    1.Predicting 0 for every email is 74.47%, which is less \n",
      "    than 75.6%, so our logistic regression classifier is better.\n",
      "    \n",
      "    2.The words are common in both spam and ham emails.\n",
      "    \n",
      "    3.The logistic regression classifier for a spam \n",
      "    filter, because it has higher prediction accuracy.\n",
      "\n",
      "\n"
     ]
    }
   ],
   "source": [
    "# YOUR CODE HERE\n",
    "print(\"\"\"\n",
    "\n",
    "    1.Predicting 0 for every email is 74.47%, which is less \n",
    "    than 75.6%, so our logistic regression classifier is better.\n",
    "    \n",
    "    2.The words are common in both spam and ham emails.\n",
    "    \n",
    "    3.The logistic regression classifier for a spam \n",
    "    filter, because it has higher prediction accuracy.\n",
    "\n",
    "\"\"\")\n",
    "#raise NotImplementedError()"
   ]
  },
  {
   "cell_type": "markdown",
   "metadata": {
    "deletable": false,
    "editable": false,
    "nbgrader": {
     "cell_type": "markdown",
     "checksum": "8b3b93c2a0bfe0a3faebcebdc6acca4d",
     "grade": false,
     "grade_id": "q9654654",
     "locked": true,
     "schema_version": 3,
     "solution": false
    }
   },
   "source": [
    "### Question 7: Precision-Recall Curve on Validation\n",
    "\n",
    "We can trade off between precision and recall. In most cases we won't be able to get both perfect precision (i.e. no false positives) and recall (i.e. no false negatives), so we have to compromise. \n",
    "\n",
    "Recall that logistic regression calculates the probability that an example belongs to a certain class. Then, to classify an example we say that an email is spam if our classifier gives it $\\ge 0.5$ probability of being spam. However, *we can adjust that cutoff*: we can say that an email is spam only if our classifier gives it $\\ge 0.7$ probability of being spam, for example. This is how we can trade off false positives and false negatives.\n",
    "\n",
    "The precision-recall curve shows this trade off for each possible cutoff probability. In the cell below, [plot a precision-recall curve](http://scikit-learn.org/stable/auto_examples/model_selection/plot_precision_recall.html#plot-the-precision-recall-curve) on the validation set. Note that you'll want to use the .predict_proba(...) method for your classifier instead of .predict(...) so you get probabilities, not categories.\n"
   ]
  },
  {
   "cell_type": "code",
   "execution_count": 36,
   "metadata": {
    "ExecuteTime": {
     "end_time": "2019-04-02T00:27:38.465409Z",
     "start_time": "2019-04-02T00:27:36.805200Z"
    },
    "deletable": false,
    "editable": false,
    "nbgrader": {
     "cell_type": "code",
     "checksum": "eadb164950ec51e49ac3cebef5727e49",
     "grade": false,
     "grade_id": "q9-roc-curve65465888",
     "locked": true,
     "schema_version": 3,
     "solution": false,
     "task": false
    },
    "tags": [
     "student",
     "written",
     "q_roc"
    ]
   },
   "outputs": [],
   "source": [
    "Y_val_hat_prob = model.predict_proba(X_val)[:, 1]"
   ]
  },
  {
   "cell_type": "code",
   "execution_count": 37,
   "metadata": {
    "ExecuteTime": {
     "end_time": "2019-04-02T00:27:38.465409Z",
     "start_time": "2019-04-02T00:27:36.805200Z"
    },
    "deletable": false,
    "nbgrader": {
     "cell_type": "code",
     "checksum": "f72b43d5101c597168610ea33b077e79",
     "grade": true,
     "grade_id": "q9-roc-curve654654",
     "locked": false,
     "points": 3,
     "schema_version": 3,
     "solution": true
    },
    "tags": [
     "student",
     "written",
     "q_roc"
    ]
   },
   "outputs": [
    {
     "data": {
      "text/plain": [
       "Text(0.5, 1.0, '2-class Precision-Recall curve: AP=0.32')"
      ]
     },
     "execution_count": 37,
     "metadata": {},
     "output_type": "execute_result"
    },
    {
     "data": {
      "image/png": "[encoded data removed]",
      "text/plain": [
       "<Figure size 432x288 with 1 Axes>"
      ]
     },
     "metadata": {
      "needs_background": "light"
     },
     "output_type": "display_data"
    }
   ],
   "source": [
    "# YOUR CODE HERE\n",
    "from sklearn.metrics import average_precision_score\n",
    "average_precision = average_precision_score(Y_val, Y_val_hat_prob)\n",
    "\n",
    "precision, recall, _ = precision_recall_curve(Y_val, Y_val_hat_prob)\n",
    "\n",
    "plt.step(recall, precision, color='b', alpha=0.2,where='post')\n",
    "plt.fill_between(recall, precision, step='post', alpha=0.2, color='b')\n",
    "\n",
    "plt.xlabel('Recall')\n",
    "plt.ylabel('Precision')\n",
    "plt.ylim([0.0, 1.05])\n",
    "plt.xlim([0.0, 1.0])\n",
    "plt.title('2-class Precision-Recall curve: AP={0:0.2f}'.format(average_precision))\n",
    "#raise NotImplementedError()"
   ]
  },
  {
   "cell_type": "markdown",
   "metadata": {},
   "source": [
    "### Question 8: Cross Validation\n",
    "\n",
    "Take the following function for computing the accuracy of classifications.\n"
   ]
  },
  {
   "cell_type": "code",
   "execution_count": 38,
   "metadata": {
    "deletable": false,
    "editable": false,
    "nbgrader": {
     "cell_type": "code",
     "checksum": "4ba174e5f6e9b4023d8d2a851bf0fecd",
     "grade": false,
     "grade_id": "cell-de4ee5b1812106e1",
     "locked": true,
     "schema_version": 3,
     "solution": false,
     "task": false
    }
   },
   "outputs": [],
   "source": [
    "def error_rate(y_pred, y_actual):\n",
    "    return np.mean(y_pred != y_actual )"
   ]
  },
  {
   "cell_type": "markdown",
   "metadata": {},
   "source": [
    "We want to perform cross validation to compare different choices of words for the classfication. By training and validating multiple times, we can gauge the accuracy of classfications along with the variability of classfications."
   ]
  },
  {
   "cell_type": "code",
   "execution_count": 39,
   "metadata": {
    "deletable": false,
    "editable": false,
    "nbgrader": {
     "cell_type": "code",
     "checksum": "7aad25fad698fa5800c0e4abe57c0818",
     "grade": false,
     "grade_id": "cell-38721fc2f34c7f97",
     "locked": true,
     "schema_version": 3,
     "solution": false,
     "task": false
    }
   },
   "outputs": [],
   "source": [
    "def compute_CV_error(model, X_train, Y_train, vocabulary, number_splits = 5):\n",
    "    kf = KFold(n_splits=number_splits, random_state=42)\n",
    "    \n",
    "    vocabulary_errors = dict()\n",
    "    for words in vocabulary:\n",
    "        X_train_features = words_in_texts(words, X_train) \n",
    "\n",
    "        validation_errors = []        \n",
    "        for train_idx, valid_idx in kf.split(X_train):\n",
    "            # split the data\n",
    "            split_X_train, split_X_valid = X_train_features[train_idx], X_train_features[valid_idx]\n",
    "            split_Y_train, split_Y_valid = Y_train.iloc[train_idx], Y_train.iloc[valid_idx]\n",
    "\n",
    "            # Fit the model on the training split\n",
    "            model.fit(split_X_train,split_Y_train)\n",
    "\n",
    "            # Compute the accuracy on the validation split\n",
    "            error = error_rate(model.predict(split_X_valid), split_Y_valid)\n",
    "\n",
    "            validation_errors.append(error)\n",
    "    \n",
    "        #average validation errors\n",
    "        print(\"For vocabulary {0}\".format(\",\".join(words)), \"\\n Mean: {0}\".format(np.mean(validation_errors)), \"\\n Standard Deviation {0}\\n\\n\".format(np.std(validation_errors)))\n",
    "        \n",
    "        vocabulary_errors[tuple(words)] = {'mean': np.mean(validation_errors), 'std': np.std(validation_errors)}\n",
    "        \n",
    "    return vocabulary_errors"
   ]
  },
  {
   "cell_type": "code",
   "execution_count": null,
   "metadata": {},
   "outputs": [],
   "source": []
  },
  {
   "cell_type": "markdown",
   "metadata": {},
   "source": [
    "### Question 8a\n",
    "Consider the collection of words `vocabulary1` and `vocabulary2`"
   ]
  },
  {
   "cell_type": "code",
   "execution_count": 40,
   "metadata": {
    "deletable": false,
    "editable": false,
    "nbgrader": {
     "cell_type": "code",
     "checksum": "17e5598f37277e46075c466dfc34f768",
     "grade": false,
     "grade_id": "cell-5501a43e26fa84d2",
     "locked": true,
     "schema_version": 3,
     "solution": false,
     "task": false
    }
   },
   "outputs": [],
   "source": [
    "vocabulary1 = ['drug', 'bank', 'prescription', 'memo', 'private']\n",
    "vocabulary2 = ['please', 'money', 'offer', 'receive', 'contact', 'free']"
   ]
  },
  {
   "cell_type": "markdown",
   "metadata": {
    "deletable": false,
    "editable": false,
    "nbgrader": {
     "cell_type": "markdown",
     "checksum": "efea84d90b262695e2d757d25ca63ec1",
     "grade": false,
     "grade_id": "cell-0381c88a32d2e2ee",
     "locked": true,
     "schema_version": 3,
     "solution": false,
     "task": false
    }
   },
   "source": [
    "Run `compute_CV_error` on `original_training_data` with `LogisticRegression` model for `vocabulary1` and `vocabulary2`. Call the output `vocabulary_errors`."
   ]
  },
  {
   "cell_type": "code",
   "execution_count": 41,
   "metadata": {
    "deletable": false,
    "nbgrader": {
     "cell_type": "code",
     "checksum": "c349dac1b37a3dc98f74d8efdb213054",
     "grade": false,
     "grade_id": "cell-152bc77c80022772",
     "locked": false,
     "schema_version": 3,
     "solution": true,
     "task": false
    }
   },
   "outputs": [
    {
     "name": "stdout",
     "output_type": "stream",
     "text": [
      "For vocabulary drug,bank,prescription,memo,private \n",
      " Mean: 0.24425210693053678 \n",
      " Standard Deviation 0.010450263071996146\n",
      "\n",
      "\n",
      "For vocabulary please,money,offer,receive,contact,free \n",
      " Mean: 0.18795133519659304 \n",
      " Standard Deviation 0.009161748314231662\n",
      "\n",
      "\n"
     ]
    }
   ],
   "source": [
    "vocabulary_errors = compute_CV_error(LogisticRegression(), \n",
    "                                     original_training_data['email'],\n",
    "                                     original_training_data['spam'], \n",
    "                                     (vocabulary1, vocabulary2))\n",
    "\n",
    "# YOUR CODE HERE\n",
    "#raise NotImplementedError()"
   ]
  },
  {
   "cell_type": "code",
   "execution_count": 42,
   "metadata": {
    "deletable": false,
    "editable": false,
    "nbgrader": {
     "cell_type": "code",
     "checksum": "0e52f3317eef07b818f0df7a43a0d0ef",
     "grade": true,
     "grade_id": "cell-6861092cac498dd8",
     "locked": true,
     "points": 1,
     "schema_version": 3,
     "solution": false,
     "task": false
    }
   },
   "outputs": [],
   "source": [
    "# TEST \n",
    "\n",
    "assert np.isclose(vocabulary_errors[tuple(vocabulary1)]['mean'],  0.24425210693053678 )\n",
    "assert np.isclose(vocabulary_errors[tuple(vocabulary1)]['std'], 0.010450263071996146)"
   ]
  },
  {
   "cell_type": "code",
   "execution_count": null,
   "metadata": {
    "deletable": false,
    "editable": false,
    "nbgrader": {
     "cell_type": "code",
     "checksum": "3f2bb8de4a0e6e1d35ce3ac2ec120ff0",
     "grade": true,
     "grade_id": "cell-e1edb8ac13326063",
     "locked": true,
     "points": 1,
     "schema_version": 3,
     "solution": false,
     "task": false
    }
   },
   "outputs": [],
   "source": []
  },
  {
   "cell_type": "markdown",
   "metadata": {},
   "source": [
    "### Question 8b\n",
    "\n",
    "Which collection of words is more accurate? Which collection of words has more variability in classfications? Which would you choose for determining the features of your model?"
   ]
  },
  {
   "cell_type": "code",
   "execution_count": 44,
   "metadata": {
    "deletable": false,
    "nbgrader": {
     "cell_type": "code",
     "checksum": "6d2c88403360049a65b05feed30a5cad",
     "grade": true,
     "grade_id": "cell-183d2c85180ebbd1",
     "locked": false,
     "points": 1,
     "schema_version": 3,
     "solution": true,
     "task": false
    }
   },
   "outputs": [
    {
     "data": {
      "text/plain": [
       "\"Vocabulary2 is more accurate because it has a lower mean and in this case Vocabulary1 has a higher variability\\nbecause of its higher std. I'd therefore choose Vocabulary2 for its low error and low variability in comparison to \\nVocabulary2\""
      ]
     },
     "execution_count": 44,
     "metadata": {},
     "output_type": "execute_result"
    }
   ],
   "source": [
    "# YOUR CODE HERE\n",
    "\"\"\"Vocabulary2 is more accurate because it has a lower mean and in this case Vocabulary1 has a higher variability\n",
    "because of its higher std. I'd therefore choose Vocabulary2 for its low error and low variability in comparison to \n",
    "Vocabulary2\"\"\"\n",
    "#raise NotImplementedError()"
   ]
  },
  {
   "cell_type": "markdown",
   "metadata": {
    "deletable": false,
    "editable": false,
    "nbgrader": {
     "cell_type": "markdown",
     "checksum": "4d1217beae202e93f8312dc8dce5490b",
     "grade": false,
     "grade_id": "p265465465",
     "locked": true,
     "schema_version": 3,
     "solution": false
    }
   },
   "source": [
    "## Extra Credit\n",
    "\n",
    "It is now your task to make the spam filter more accurate. To receive extra credit, you must get at least **88%** accuracy on the test set. Call your predictions `Y_test_hat`. This should be a numpy array consisting of 0 and 1 for each every email in the `test` DataFrame."
   ]
  },
  {
   "cell_type": "markdown",
   "metadata": {
    "deletable": false,
    "editable": false,
    "nbgrader": {
     "cell_type": "markdown",
     "checksum": "c80977283a690010ccc363dbb9818266",
     "grade": false,
     "grade_id": "p265464654",
     "locked": true,
     "schema_version": 3,
     "solution": false
    }
   },
   "source": [
    "Here are some ideas for improving your model:\n",
    "\n",
    "1. Finding better features based on the email text. Some example features are:\n",
    "    1. Number of characters in the subject / body\n",
    "    1. Number of words in the subject / body\n",
    "    1. Use of punctuation (e.g., how many '!' were there?)\n",
    "    1. Number / percentage of capital letters \n",
    "    1. Whether the email is a reply to an earlier email or a forwarded email\n",
    "1. Finding better words to use as features. Which words are the best at distinguishing emails? This requires digging into the email text itself. \n",
    "1. Better data processing. For example, many emails contain HTML as well as text. You can consider extracting out the text from the HTML to help you find better words. Or, you can match HTML tags themselves, or even some combination of the two.\n",
    "1. Model selection. You can adjust parameters of your model (e.g. the regularization parameter) to achieve higher accuracy. Recall that you should use cross-validation to do feature and model selection properly! Otherwise, you will likely overfit to your training data.\n",
    "\n",
    "ou may use whatever method you prefer in order to create features, but **you are not allowed to import any external feature extraction libraries**. In addition, **you are only allowed to train logistic regression models**."
   ]
  },
  {
   "cell_type": "code",
   "execution_count": 63,
   "metadata": {
    "deletable": false,
    "nbgrader": {
     "cell_type": "code",
     "checksum": "d74f2e478ed09c448a8978ecfc453901",
     "grade": false,
     "grade_id": "cell-1229bd8a8f9dba23",
     "locked": false,
     "schema_version": 3,
     "solution": true,
     "task": false
    }
   },
   "outputs": [
    {
     "name": "stdout",
     "output_type": "stream",
     "text": [
      "Training Accuracy:  0.8964461599893518\n"
     ]
    },
    {
     "data": {
      "text/plain": [
       "'If I could i would use CountVectorizer.transform to get the Y_test_hat, but since we cant\\nimport any external feature libraries idk how to do that part'"
      ]
     },
     "execution_count": 63,
     "metadata": {},
     "output_type": "execute_result"
    }
   ],
   "source": [
    "import re\n",
    "def betterwords(df):\n",
    "    word_count = {}\n",
    "    for email in df['email']:\n",
    "        word_list = re.findall('\\w+', email)\n",
    "        for w in word_list:\n",
    "            word_count[w] = (word_count[w] + 1) if w in word_count else 1\n",
    "    return word_count\n",
    "\n",
    "words = betterwords(original_training_data)\n",
    "{k: v for k, v in sorted(words.items(), key=lambda item: item[1], reverse=True)}\n",
    "\n",
    "#from this looking at popular words and characters that sound like they's be spam\n",
    "features = ['please','free','dollars','good','congrats','prize','won','money','news','click','remove','href']\n",
    "X_train = np.array(words_in_texts(features, train['email'])).astype(int)\n",
    "Y_train = train['spam']\n",
    "model = LogisticRegression().fit(X_train, Y_train)\n",
    "training_accuracy = model.score(X_train, Y_train)\n",
    "print(\"Training Accuracy: \", training_accuracy) \n",
    "\n",
    "#Y_test_hat = model.predict(np.vsplit(X_train.values[...,None],original_training_data.shape[0]))\n",
    "\n",
    "\"\"\"If I could i would use CountVectorizer.transform to get the Y_test_hat, but since we cant\n",
    "import any external feature libraries idk how to do that part\"\"\""
   ]
  },
  {
   "cell_type": "code",
   "execution_count": null,
   "metadata": {
    "deletable": false,
    "editable": false,
    "nbgrader": {
     "cell_type": "code",
     "checksum": "3e223f2c056c1374a7df91a2d15ac647",
     "grade": true,
     "grade_id": "cell-45c07509de09ae1d",
     "locked": true,
     "points": 0,
     "schema_version": 3,
     "solution": false,
     "task": false
    }
   },
   "outputs": [],
   "source": [
    "# TEST\n",
    "\n",
    "assert len(Y_test_hat) == 1000\n",
    "assert np.all(np.unique(Y_test_hat) == [0,1])"
   ]
  },
  {
   "cell_type": "code",
   "execution_count": null,
   "metadata": {
    "deletable": false,
    "editable": false,
    "nbgrader": {
     "cell_type": "code",
     "checksum": "a9bf1ebe78adfc280a29afe6d168cb4f",
     "grade": true,
     "grade_id": "cell-525955f262e50143",
     "locked": true,
     "points": 0,
     "schema_version": 3,
     "solution": false,
     "task": false
    }
   },
   "outputs": [],
   "source": []
  }
 ],
 "metadata": {
  "kernelspec": {
   "display_name": "Python 3",
   "language": "python",
   "name": "python3"
  },
  "language_info": {
   "codemirror_mode": {
    "name": "ipython",
    "version": 3
   },
   "file_extension": ".py",
   "mimetype": "text/x-python",
   "name": "python",
   "nbconvert_exporter": "python",
   "pygments_lexer": "ipython3",
   "version": "3.7.0"
  }
 },
 "nbformat": 4,
 "nbformat_minor": 4
}
